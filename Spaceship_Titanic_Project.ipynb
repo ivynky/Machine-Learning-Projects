{
  "cells": [
    {
      "cell_type": "markdown",
      "metadata": {
        "id": "view-in-github",
        "colab_type": "text"
      },
      "source": [
        "<a href=\"https://colab.research.google.com/github/ivynky/Machine-Learning-Projects/blob/main/Spaceship_Titanic_Project.ipynb\" target=\"_parent\"><img src=\"https://colab.research.google.com/assets/colab-badge.svg\" alt=\"Open In Colab\"/></a>"
      ]
    },
    {
      "cell_type": "markdown",
      "id": "LuCHnMwitqgn",
      "metadata": {
        "id": "LuCHnMwitqgn"
      },
      "source": [
        "# Title: The Cosmic Mystery of Spaceship Titanic: A Data Science Investigation\n",
        "###### (https://www.kaggle.com/competitions/spaceship-titanic)\n",
        "\n",
        "**Introduction:**\n",
        "\n",
        "Welcome to the year 2912, where the enigmatic Spaceship Titanic's collision with a spacetime anomaly has led to a cosmic mystery. Our task is to predict whether passengers were transported to an alternate dimension during this cataclysmic event. In this summary, we'll explore the dataset provided, consisting of personal records recovered from the ship's damaged computer system.\n",
        "\n",
        "**Dataset Description:**\n",
        "\n",
        "train.csv: Personal records for about two-thirds (~8700) of the\n",
        "passengers, used as training data.\n",
        "\n",
        "*   PassengerId: Unique ID for each passenger.gggg indicates a group the passenger is travelling with and pp is their number within the group.\n",
        "* HomePlanet: The planet the passenger departed from.\n",
        "*   CryoSleep: Indicates if the passenger elected to be in suspended animation.\n",
        "*  Cabin: The cabin number where the passenger stayed.Takes the form deck/num/side, where side can be either P for Port or S for Starboard.\n",
        "*   Destination: The planet the passenger was headed to.\n",
        "*   Age: Age of the passenger.\n",
        "*  VIP: Indicates if the passenger paid for VIP service.\n",
        "*  RoomService, FoodCourt, ShoppingMall, Spa, VRDeck: Amount billed at luxury amenities.\n",
        "*   Name: First and last names of the passenger.\n",
        "*   Transported: Whether the passenger was transported to another dimension (Target).\n",
        "\n",
        "**test.csv:** Personal records for the remaining one-third (~4300) of the passengers, used for prediction.\n",
        "\n",
        "\n",
        "**Objective:**\n",
        "\n",
        "Our goal is to predict whether each passenger in the test set was transported to another dimension during the collision. We'll utilize machine learning techniques to analyze the provided data and make predictions.\n",
        "\n",
        "**Approach:**\n",
        "\n",
        "\n",
        "Data Exploration: We'll explore the dataset to understand its structure, distribution, and deal with missing values.\n",
        "\n",
        "Feature Engineering: We'll engineer new features if needed and preprocess the data for modeling.\n",
        "\n",
        "Model Selection: We'll select appropriate machine learning models and train them using the training data.\n",
        "\n",
        "Model Evaluation: We'll evaluate the performance of the trained models using appropriate evaluation metrics.\n",
        "\n",
        "Prediction: Finally, we'll make predictions for the passengers in the test set and submit our results.\n"
      ]
    },
    {
      "cell_type": "code",
      "execution_count": null,
      "id": "3Yt9p-WYNpD5",
      "metadata": {
        "colab": {
          "base_uri": "https://localhost:8080/"
        },
        "id": "3Yt9p-WYNpD5",
        "outputId": "bddbc3d1-c90b-473b-c6b3-bb34cef0f162"
      },
      "outputs": [
        {
          "name": "stdout",
          "output_type": "stream",
          "text": [
            "Drive already mounted at /content/drive; to attempt to forcibly remount, call drive.mount(\"/content/drive\", force_remount=True).\n"
          ]
        }
      ],
      "source": [
        "from google.colab import drive\n",
        "drive.mount('/content/drive')"
      ]
    },
    {
      "cell_type": "markdown",
      "id": "b5e57a62",
      "metadata": {
        "id": "b5e57a62"
      },
      "source": [
        "# 1. Data Cleaning\n",
        "\n"
      ]
    },
    {
      "cell_type": "code",
      "execution_count": null,
      "id": "338bf722",
      "metadata": {
        "id": "338bf722"
      },
      "outputs": [],
      "source": [
        "#Importing Necessary Libraries\n",
        "\n",
        "import pandas as pd\n",
        "import matplotlib.pyplot as plt\n",
        "import seaborn as sns\n",
        "import numpy as np"
      ]
    },
    {
      "cell_type": "code",
      "execution_count": null,
      "id": "gxKJKNsHbowY",
      "metadata": {
        "colab": {
          "base_uri": "https://localhost:8080/"
        },
        "id": "gxKJKNsHbowY",
        "outputId": "8a3be5ec-9a64-4935-ef81-d3decec750b9"
      },
      "outputs": [
        {
          "name": "stdout",
          "output_type": "stream",
          "text": [
            "Drive already mounted at /content/drive; to attempt to forcibly remount, call drive.mount(\"/content/drive\", force_remount=True).\n"
          ]
        }
      ],
      "source": [
        "#Mounting google drive to avoid data uploads\n",
        "from google.colab import drive\n",
        "drive.mount('/content/drive')\n"
      ]
    },
    {
      "cell_type": "code",
      "execution_count": null,
      "id": "57777040",
      "metadata": {
        "id": "57777040"
      },
      "outputs": [],
      "source": [
        "#reading both Train and Test Files\n",
        "#NOTE: ONLY THE TRAIN FILE WILL BE USED TO TRAIN AND TEST THE ACCURACY.\n",
        "#NOTE: THE TEST FILE IS AN UNSEEN DATASET WITH NO OUTCOME VARIABLE. THE OUTCOME WILL BE PREDICTED AFTER MODEL SELECTION\n",
        "\n",
        "df_train = pd.read_csv(\"/content/drive/MyDrive/train.csv\")\n",
        "df_predict = pd.read_csv(\"/content/drive/MyDrive/predict.csv\")"
      ]
    },
    {
      "cell_type": "markdown",
      "id": "cJazGEU_HPHQ",
      "metadata": {
        "id": "cJazGEU_HPHQ"
      },
      "source": [
        "## Training Data"
      ]
    },
    {
      "cell_type": "code",
      "execution_count": null,
      "id": "23dffdeb",
      "metadata": {
        "colab": {
          "base_uri": "https://localhost:8080/",
          "height": 215
        },
        "id": "23dffdeb",
        "outputId": "4c235025-5416-4147-d28a-ca91523d188a"
      },
      "outputs": [
        {
          "data": {
            "application/vnd.google.colaboratory.intrinsic+json": {
              "summary": "{\n  \"name\": \"df_train\",\n  \"rows\": 8693,\n  \"fields\": [\n    {\n      \"column\": \"PassengerId\",\n      \"properties\": {\n        \"dtype\": \"string\",\n        \"num_unique_values\": 8693,\n        \"samples\": [\n          \"0337_02\",\n          \"2891_01\",\n          \"8998_01\"\n        ],\n        \"semantic_type\": \"\",\n        \"description\": \"\"\n      }\n    },\n    {\n      \"column\": \"HomePlanet\",\n      \"properties\": {\n        \"dtype\": \"category\",\n        \"num_unique_values\": 3,\n        \"samples\": [\n          \"Europa\",\n          \"Earth\",\n          \"Mars\"\n        ],\n        \"semantic_type\": \"\",\n        \"description\": \"\"\n      }\n    },\n    {\n      \"column\": \"CryoSleep\",\n      \"properties\": {\n        \"dtype\": \"category\",\n        \"num_unique_values\": 2,\n        \"samples\": [\n          true,\n          false\n        ],\n        \"semantic_type\": \"\",\n        \"description\": \"\"\n      }\n    },\n    {\n      \"column\": \"Cabin\",\n      \"properties\": {\n        \"dtype\": \"string\",\n        \"num_unique_values\": 6560,\n        \"samples\": [\n          \"A/29/P\",\n          \"G/1452/P\"\n        ],\n        \"semantic_type\": \"\",\n        \"description\": \"\"\n      }\n    },\n    {\n      \"column\": \"Destination\",\n      \"properties\": {\n        \"dtype\": \"category\",\n        \"num_unique_values\": 3,\n        \"samples\": [\n          \"TRAPPIST-1e\",\n          \"PSO J318.5-22\"\n        ],\n        \"semantic_type\": \"\",\n        \"description\": \"\"\n      }\n    },\n    {\n      \"column\": \"Age\",\n      \"properties\": {\n        \"dtype\": \"number\",\n        \"std\": 14.48902142390878,\n        \"min\": 0.0,\n        \"max\": 79.0,\n        \"num_unique_values\": 80,\n        \"samples\": [\n          30.0,\n          39.0\n        ],\n        \"semantic_type\": \"\",\n        \"description\": \"\"\n      }\n    },\n    {\n      \"column\": \"VIP\",\n      \"properties\": {\n        \"dtype\": \"category\",\n        \"num_unique_values\": 2,\n        \"samples\": [\n          true,\n          false\n        ],\n        \"semantic_type\": \"\",\n        \"description\": \"\"\n      }\n    },\n    {\n      \"column\": \"RoomService\",\n      \"properties\": {\n        \"dtype\": \"number\",\n        \"std\": 666.7176629280652,\n        \"min\": 0.0,\n        \"max\": 14327.0,\n        \"num_unique_values\": 1273,\n        \"samples\": [\n          2103.0,\n          1720.0\n        ],\n        \"semantic_type\": \"\",\n        \"description\": \"\"\n      }\n    },\n    {\n      \"column\": \"FoodCourt\",\n      \"properties\": {\n        \"dtype\": \"number\",\n        \"std\": 1611.4892403550716,\n        \"min\": 0.0,\n        \"max\": 29813.0,\n        \"num_unique_values\": 1507,\n        \"samples\": [\n          61.0,\n          783.0\n        ],\n        \"semantic_type\": \"\",\n        \"description\": \"\"\n      }\n    },\n    {\n      \"column\": \"ShoppingMall\",\n      \"properties\": {\n        \"dtype\": \"number\",\n        \"std\": 604.6964584708243,\n        \"min\": 0.0,\n        \"max\": 23492.0,\n        \"num_unique_values\": 1115,\n        \"samples\": [\n          619.0,\n          356.0\n        ],\n        \"semantic_type\": \"\",\n        \"description\": \"\"\n      }\n    },\n    {\n      \"column\": \"Spa\",\n      \"properties\": {\n        \"dtype\": \"number\",\n        \"std\": 1136.7055348344065,\n        \"min\": 0.0,\n        \"max\": 22408.0,\n        \"num_unique_values\": 1327,\n        \"samples\": [\n          190.0,\n          622.0\n        ],\n        \"semantic_type\": \"\",\n        \"description\": \"\"\n      }\n    },\n    {\n      \"column\": \"VRDeck\",\n      \"properties\": {\n        \"dtype\": \"number\",\n        \"std\": 1145.7171888056614,\n        \"min\": 0.0,\n        \"max\": 24133.0,\n        \"num_unique_values\": 1306,\n        \"samples\": [\n          977.0,\n          624.0\n        ],\n        \"semantic_type\": \"\",\n        \"description\": \"\"\n      }\n    },\n    {\n      \"column\": \"Name\",\n      \"properties\": {\n        \"dtype\": \"string\",\n        \"num_unique_values\": 8473,\n        \"samples\": [\n          \"Nancey Bookerson\",\n          \"Nelly Benney\"\n        ],\n        \"semantic_type\": \"\",\n        \"description\": \"\"\n      }\n    },\n    {\n      \"column\": \"Transported\",\n      \"properties\": {\n        \"dtype\": \"boolean\",\n        \"num_unique_values\": 2,\n        \"samples\": [\n          true,\n          false\n        ],\n        \"semantic_type\": \"\",\n        \"description\": \"\"\n      }\n    }\n  ]\n}",
              "type": "dataframe",
              "variable_name": "df_train"
            },
            "text/html": [
              "\n",
              "  <div id=\"df-37fdabff-59ec-4d23-b4fb-9ace10bd3245\" class=\"colab-df-container\">\n",
              "    <div>\n",
              "<style scoped>\n",
              "    .dataframe tbody tr th:only-of-type {\n",
              "        vertical-align: middle;\n",
              "    }\n",
              "\n",
              "    .dataframe tbody tr th {\n",
              "        vertical-align: top;\n",
              "    }\n",
              "\n",
              "    .dataframe thead th {\n",
              "        text-align: right;\n",
              "    }\n",
              "</style>\n",
              "<table border=\"1\" class=\"dataframe\">\n",
              "  <thead>\n",
              "    <tr style=\"text-align: right;\">\n",
              "      <th></th>\n",
              "      <th>PassengerId</th>\n",
              "      <th>HomePlanet</th>\n",
              "      <th>CryoSleep</th>\n",
              "      <th>Cabin</th>\n",
              "      <th>Destination</th>\n",
              "      <th>Age</th>\n",
              "      <th>VIP</th>\n",
              "      <th>RoomService</th>\n",
              "      <th>FoodCourt</th>\n",
              "      <th>ShoppingMall</th>\n",
              "      <th>Spa</th>\n",
              "      <th>VRDeck</th>\n",
              "      <th>Name</th>\n",
              "      <th>Transported</th>\n",
              "    </tr>\n",
              "  </thead>\n",
              "  <tbody>\n",
              "    <tr>\n",
              "      <th>0</th>\n",
              "      <td>0001_01</td>\n",
              "      <td>Europa</td>\n",
              "      <td>False</td>\n",
              "      <td>B/0/P</td>\n",
              "      <td>TRAPPIST-1e</td>\n",
              "      <td>39.0</td>\n",
              "      <td>False</td>\n",
              "      <td>0.0</td>\n",
              "      <td>0.0</td>\n",
              "      <td>0.0</td>\n",
              "      <td>0.0</td>\n",
              "      <td>0.0</td>\n",
              "      <td>Maham Ofracculy</td>\n",
              "      <td>False</td>\n",
              "    </tr>\n",
              "    <tr>\n",
              "      <th>1</th>\n",
              "      <td>0002_01</td>\n",
              "      <td>Earth</td>\n",
              "      <td>False</td>\n",
              "      <td>F/0/S</td>\n",
              "      <td>TRAPPIST-1e</td>\n",
              "      <td>24.0</td>\n",
              "      <td>False</td>\n",
              "      <td>109.0</td>\n",
              "      <td>9.0</td>\n",
              "      <td>25.0</td>\n",
              "      <td>549.0</td>\n",
              "      <td>44.0</td>\n",
              "      <td>Juanna Vines</td>\n",
              "      <td>True</td>\n",
              "    </tr>\n",
              "    <tr>\n",
              "      <th>2</th>\n",
              "      <td>0003_01</td>\n",
              "      <td>Europa</td>\n",
              "      <td>False</td>\n",
              "      <td>A/0/S</td>\n",
              "      <td>TRAPPIST-1e</td>\n",
              "      <td>58.0</td>\n",
              "      <td>True</td>\n",
              "      <td>43.0</td>\n",
              "      <td>3576.0</td>\n",
              "      <td>0.0</td>\n",
              "      <td>6715.0</td>\n",
              "      <td>49.0</td>\n",
              "      <td>Altark Susent</td>\n",
              "      <td>False</td>\n",
              "    </tr>\n",
              "  </tbody>\n",
              "</table>\n",
              "</div>\n",
              "    <div class=\"colab-df-buttons\">\n",
              "\n",
              "  <div class=\"colab-df-container\">\n",
              "    <button class=\"colab-df-convert\" onclick=\"convertToInteractive('df-37fdabff-59ec-4d23-b4fb-9ace10bd3245')\"\n",
              "            title=\"Convert this dataframe to an interactive table.\"\n",
              "            style=\"display:none;\">\n",
              "\n",
              "  <svg xmlns=\"http://www.w3.org/2000/svg\" height=\"24px\" viewBox=\"0 -960 960 960\">\n",
              "    <path d=\"M120-120v-720h720v720H120Zm60-500h600v-160H180v160Zm220 220h160v-160H400v160Zm0 220h160v-160H400v160ZM180-400h160v-160H180v160Zm440 0h160v-160H620v160ZM180-180h160v-160H180v160Zm440 0h160v-160H620v160Z\"/>\n",
              "  </svg>\n",
              "    </button>\n",
              "\n",
              "  <style>\n",
              "    .colab-df-container {\n",
              "      display:flex;\n",
              "      gap: 12px;\n",
              "    }\n",
              "\n",
              "    .colab-df-convert {\n",
              "      background-color: #E8F0FE;\n",
              "      border: none;\n",
              "      border-radius: 50%;\n",
              "      cursor: pointer;\n",
              "      display: none;\n",
              "      fill: #1967D2;\n",
              "      height: 32px;\n",
              "      padding: 0 0 0 0;\n",
              "      width: 32px;\n",
              "    }\n",
              "\n",
              "    .colab-df-convert:hover {\n",
              "      background-color: #E2EBFA;\n",
              "      box-shadow: 0px 1px 2px rgba(60, 64, 67, 0.3), 0px 1px 3px 1px rgba(60, 64, 67, 0.15);\n",
              "      fill: #174EA6;\n",
              "    }\n",
              "\n",
              "    .colab-df-buttons div {\n",
              "      margin-bottom: 4px;\n",
              "    }\n",
              "\n",
              "    [theme=dark] .colab-df-convert {\n",
              "      background-color: #3B4455;\n",
              "      fill: #D2E3FC;\n",
              "    }\n",
              "\n",
              "    [theme=dark] .colab-df-convert:hover {\n",
              "      background-color: #434B5C;\n",
              "      box-shadow: 0px 1px 3px 1px rgba(0, 0, 0, 0.15);\n",
              "      filter: drop-shadow(0px 1px 2px rgba(0, 0, 0, 0.3));\n",
              "      fill: #FFFFFF;\n",
              "    }\n",
              "  </style>\n",
              "\n",
              "    <script>\n",
              "      const buttonEl =\n",
              "        document.querySelector('#df-37fdabff-59ec-4d23-b4fb-9ace10bd3245 button.colab-df-convert');\n",
              "      buttonEl.style.display =\n",
              "        google.colab.kernel.accessAllowed ? 'block' : 'none';\n",
              "\n",
              "      async function convertToInteractive(key) {\n",
              "        const element = document.querySelector('#df-37fdabff-59ec-4d23-b4fb-9ace10bd3245');\n",
              "        const dataTable =\n",
              "          await google.colab.kernel.invokeFunction('convertToInteractive',\n",
              "                                                    [key], {});\n",
              "        if (!dataTable) return;\n",
              "\n",
              "        const docLinkHtml = 'Like what you see? Visit the ' +\n",
              "          '<a target=\"_blank\" href=https://colab.research.google.com/notebooks/data_table.ipynb>data table notebook</a>'\n",
              "          + ' to learn more about interactive tables.';\n",
              "        element.innerHTML = '';\n",
              "        dataTable['output_type'] = 'display_data';\n",
              "        await google.colab.output.renderOutput(dataTable, element);\n",
              "        const docLink = document.createElement('div');\n",
              "        docLink.innerHTML = docLinkHtml;\n",
              "        element.appendChild(docLink);\n",
              "      }\n",
              "    </script>\n",
              "  </div>\n",
              "\n",
              "\n",
              "<div id=\"df-0309d56f-8b17-4659-9932-0dbb26d40c42\">\n",
              "  <button class=\"colab-df-quickchart\" onclick=\"quickchart('df-0309d56f-8b17-4659-9932-0dbb26d40c42')\"\n",
              "            title=\"Suggest charts\"\n",
              "            style=\"display:none;\">\n",
              "\n",
              "<svg xmlns=\"http://www.w3.org/2000/svg\" height=\"24px\"viewBox=\"0 0 24 24\"\n",
              "     width=\"24px\">\n",
              "    <g>\n",
              "        <path d=\"M19 3H5c-1.1 0-2 .9-2 2v14c0 1.1.9 2 2 2h14c1.1 0 2-.9 2-2V5c0-1.1-.9-2-2-2zM9 17H7v-7h2v7zm4 0h-2V7h2v10zm4 0h-2v-4h2v4z\"/>\n",
              "    </g>\n",
              "</svg>\n",
              "  </button>\n",
              "\n",
              "<style>\n",
              "  .colab-df-quickchart {\n",
              "      --bg-color: #E8F0FE;\n",
              "      --fill-color: #1967D2;\n",
              "      --hover-bg-color: #E2EBFA;\n",
              "      --hover-fill-color: #174EA6;\n",
              "      --disabled-fill-color: #AAA;\n",
              "      --disabled-bg-color: #DDD;\n",
              "  }\n",
              "\n",
              "  [theme=dark] .colab-df-quickchart {\n",
              "      --bg-color: #3B4455;\n",
              "      --fill-color: #D2E3FC;\n",
              "      --hover-bg-color: #434B5C;\n",
              "      --hover-fill-color: #FFFFFF;\n",
              "      --disabled-bg-color: #3B4455;\n",
              "      --disabled-fill-color: #666;\n",
              "  }\n",
              "\n",
              "  .colab-df-quickchart {\n",
              "    background-color: var(--bg-color);\n",
              "    border: none;\n",
              "    border-radius: 50%;\n",
              "    cursor: pointer;\n",
              "    display: none;\n",
              "    fill: var(--fill-color);\n",
              "    height: 32px;\n",
              "    padding: 0;\n",
              "    width: 32px;\n",
              "  }\n",
              "\n",
              "  .colab-df-quickchart:hover {\n",
              "    background-color: var(--hover-bg-color);\n",
              "    box-shadow: 0 1px 2px rgba(60, 64, 67, 0.3), 0 1px 3px 1px rgba(60, 64, 67, 0.15);\n",
              "    fill: var(--button-hover-fill-color);\n",
              "  }\n",
              "\n",
              "  .colab-df-quickchart-complete:disabled,\n",
              "  .colab-df-quickchart-complete:disabled:hover {\n",
              "    background-color: var(--disabled-bg-color);\n",
              "    fill: var(--disabled-fill-color);\n",
              "    box-shadow: none;\n",
              "  }\n",
              "\n",
              "  .colab-df-spinner {\n",
              "    border: 2px solid var(--fill-color);\n",
              "    border-color: transparent;\n",
              "    border-bottom-color: var(--fill-color);\n",
              "    animation:\n",
              "      spin 1s steps(1) infinite;\n",
              "  }\n",
              "\n",
              "  @keyframes spin {\n",
              "    0% {\n",
              "      border-color: transparent;\n",
              "      border-bottom-color: var(--fill-color);\n",
              "      border-left-color: var(--fill-color);\n",
              "    }\n",
              "    20% {\n",
              "      border-color: transparent;\n",
              "      border-left-color: var(--fill-color);\n",
              "      border-top-color: var(--fill-color);\n",
              "    }\n",
              "    30% {\n",
              "      border-color: transparent;\n",
              "      border-left-color: var(--fill-color);\n",
              "      border-top-color: var(--fill-color);\n",
              "      border-right-color: var(--fill-color);\n",
              "    }\n",
              "    40% {\n",
              "      border-color: transparent;\n",
              "      border-right-color: var(--fill-color);\n",
              "      border-top-color: var(--fill-color);\n",
              "    }\n",
              "    60% {\n",
              "      border-color: transparent;\n",
              "      border-right-color: var(--fill-color);\n",
              "    }\n",
              "    80% {\n",
              "      border-color: transparent;\n",
              "      border-right-color: var(--fill-color);\n",
              "      border-bottom-color: var(--fill-color);\n",
              "    }\n",
              "    90% {\n",
              "      border-color: transparent;\n",
              "      border-bottom-color: var(--fill-color);\n",
              "    }\n",
              "  }\n",
              "</style>\n",
              "\n",
              "  <script>\n",
              "    async function quickchart(key) {\n",
              "      const quickchartButtonEl =\n",
              "        document.querySelector('#' + key + ' button');\n",
              "      quickchartButtonEl.disabled = true;  // To prevent multiple clicks.\n",
              "      quickchartButtonEl.classList.add('colab-df-spinner');\n",
              "      try {\n",
              "        const charts = await google.colab.kernel.invokeFunction(\n",
              "            'suggestCharts', [key], {});\n",
              "      } catch (error) {\n",
              "        console.error('Error during call to suggestCharts:', error);\n",
              "      }\n",
              "      quickchartButtonEl.classList.remove('colab-df-spinner');\n",
              "      quickchartButtonEl.classList.add('colab-df-quickchart-complete');\n",
              "    }\n",
              "    (() => {\n",
              "      let quickchartButtonEl =\n",
              "        document.querySelector('#df-0309d56f-8b17-4659-9932-0dbb26d40c42 button');\n",
              "      quickchartButtonEl.style.display =\n",
              "        google.colab.kernel.accessAllowed ? 'block' : 'none';\n",
              "    })();\n",
              "  </script>\n",
              "</div>\n",
              "\n",
              "    </div>\n",
              "  </div>\n"
            ],
            "text/plain": [
              "  PassengerId HomePlanet CryoSleep  Cabin  Destination   Age    VIP  \\\n",
              "0     0001_01     Europa     False  B/0/P  TRAPPIST-1e  39.0  False   \n",
              "1     0002_01      Earth     False  F/0/S  TRAPPIST-1e  24.0  False   \n",
              "2     0003_01     Europa     False  A/0/S  TRAPPIST-1e  58.0   True   \n",
              "\n",
              "   RoomService  FoodCourt  ShoppingMall     Spa  VRDeck             Name  \\\n",
              "0          0.0        0.0           0.0     0.0     0.0  Maham Ofracculy   \n",
              "1        109.0        9.0          25.0   549.0    44.0     Juanna Vines   \n",
              "2         43.0     3576.0           0.0  6715.0    49.0    Altark Susent   \n",
              "\n",
              "   Transported  \n",
              "0        False  \n",
              "1         True  \n",
              "2        False  "
            ]
          },
          "execution_count": 32,
          "metadata": {},
          "output_type": "execute_result"
        }
      ],
      "source": [
        "#preview of the train & predict data\n",
        "df_train.head(3)"
      ]
    },
    {
      "cell_type": "code",
      "execution_count": null,
      "id": "3Gp1sILcYTMQ",
      "metadata": {
        "colab": {
          "base_uri": "https://localhost:8080/"
        },
        "id": "3Gp1sILcYTMQ",
        "outputId": "47729cb9-35af-442f-8a96-e36dec1e3ffe"
      },
      "outputs": [
        {
          "name": "stdout",
          "output_type": "stream",
          "text": [
            "Unique values for categorical variables:\n",
            "PassengerId: 8693\n",
            "HomePlanet: 3\n",
            "CryoSleep: 2\n",
            "Cabin: 6560\n",
            "Destination: 3\n",
            "VIP: 2\n",
            "Name: 8473\n",
            "Unique values for specific columns:\n",
            "HomePlanet:\n",
            "Earth: 4602\n",
            "Europa: 2131\n",
            "Mars: 1759\n",
            "Destination:\n",
            "TRAPPIST-1e: 5915\n",
            "55 Cancri e: 1800\n",
            "PSO J318.5-22: 796\n"
          ]
        }
      ],
      "source": [
        "# Display unique values for each categorical variable\n",
        "print(\"Unique values for categorical variables:\")\n",
        "for column in df_train.select_dtypes(include=['object']).columns:\n",
        "    print(f\"{column}: {df_train[column].nunique()}\")\n",
        "\n",
        "# Print unique values and counts for specific columns\n",
        "print(\"Unique values for specific columns:\")\n",
        "columns_to_print = [\"HomePlanet\", \"Destination\"]\n",
        "for column in columns_to_print:\n",
        "    unique_values = df_train[column].value_counts()\n",
        "    print(f\"{column}:\")\n",
        "    for value, count in unique_values.items():\n",
        "        print(f\"{value}: {count}\")\n"
      ]
    },
    {
      "cell_type": "markdown",
      "id": "Qu_SIlajmPJQ",
      "metadata": {
        "id": "Qu_SIlajmPJQ"
      },
      "source": [
        "\n",
        "There are 8473 unique names which is less than total passenger id.\n",
        "It is worth to explore rows with repeated names.\n"
      ]
    },
    {
      "cell_type": "code",
      "execution_count": null,
      "id": "ebdb3360",
      "metadata": {
        "colab": {
          "base_uri": "https://localhost:8080/"
        },
        "id": "ebdb3360",
        "outputId": "1631a1fe-b073-4bf2-8f08-93033e7870b9"
      },
      "outputs": [
        {
          "data": {
            "text/plain": [
              "PassengerId       0\n",
              "HomePlanet      201\n",
              "CryoSleep       217\n",
              "Cabin           199\n",
              "Destination     182\n",
              "Age             179\n",
              "VIP             203\n",
              "RoomService     181\n",
              "FoodCourt       183\n",
              "ShoppingMall    208\n",
              "Spa             183\n",
              "VRDeck          188\n",
              "Name            200\n",
              "Transported       0\n",
              "dtype: int64"
            ]
          },
          "execution_count": 34,
          "metadata": {},
          "output_type": "execute_result"
        }
      ],
      "source": [
        "#Checking Null cells\n",
        "df_train.isnull().sum()"
      ]
    },
    {
      "cell_type": "markdown",
      "id": "bcChCQH0IJNe",
      "metadata": {
        "id": "bcChCQH0IJNe"
      },
      "source": [
        "###Dealing with Null Cells"
      ]
    },
    {
      "cell_type": "markdown",
      "id": "GNusMmnE05i_",
      "metadata": {
        "id": "GNusMmnE05i_"
      },
      "source": [
        "**Dealing with Null Cells:**\n",
        "\n",
        "- The first four digits of Passenger ID were used to identify groups to fill null cells of Cabin, Destination, Homeplanet.  \n",
        "- CryoSleep, VIP and other null cells are filled with the mode of the same columns.\n",
        "- The null cells of the continous variables are filed with the mean of the individual columns.\n",
        "\n",
        "*This cleaning process will be replicated for the predict data set (df_predict)."
      ]
    },
    {
      "cell_type": "code",
      "execution_count": null,
      "id": "3h6R-MWC4rVs",
      "metadata": {
        "colab": {
          "background_save": true,
          "base_uri": "https://localhost:8080/"
        },
        "id": "3h6R-MWC4rVs",
        "outputId": "bd85a2d2-d1c3-4cc9-b8ac-24afc3c7a6f4"
      },
      "outputs": [
        {
          "data": {
            "text/plain": [
              "PassengerId       0\n",
              "HomePlanet      111\n",
              "CryoSleep       217\n",
              "Cabin            99\n",
              "Destination     103\n",
              "Age             179\n",
              "VIP             203\n",
              "RoomService     181\n",
              "FoodCourt       183\n",
              "ShoppingMall    208\n",
              "Spa             183\n",
              "VRDeck          188\n",
              "Name            200\n",
              "Transported       0\n",
              "GroupId           0\n",
              "dtype: int64"
            ]
          },
          "execution_count": 35,
          "metadata": {},
          "output_type": "execute_result"
        }
      ],
      "source": [
        "## Extract first four digits of PassengerId to create GroupId column\n",
        "df_train['GroupId'] = df_train['PassengerId'].str[:4]\n",
        "\n",
        "# Get unique GroupId values\n",
        "unique_group_ids = df_train['GroupId'].unique()\n",
        "\n",
        "# Iterate over unique GroupId values\n",
        "for group_id in unique_group_ids:\n",
        "    # Find rows with the same GroupId\n",
        "    group_rows = df_train[df_train['GroupId'] == group_id]\n",
        "\n",
        "    # Find non-null values of Cabin, HomePlanet, and Destination for this group\n",
        "    cabin_not_null = group_rows['Cabin'].notnull()\n",
        "    homeplanet_not_null = group_rows['HomePlanet'].notnull()\n",
        "    destination_not_null = group_rows['Destination'].notnull()\n",
        "\n",
        "    # Get non-null values\n",
        "    cabin_value = group_rows.loc[cabin_not_null, 'Cabin'].iloc[0] if any(cabin_not_null) else None\n",
        "    homeplanet_value = group_rows.loc[homeplanet_not_null, 'HomePlanet'].iloc[0] if any(homeplanet_not_null) else None\n",
        "    destination_value = group_rows.loc[destination_not_null, 'Destination'].iloc[0] if any(destination_not_null) else None\n",
        "\n",
        "    # Fill null cells of Cabin, HomePlanet, and Destination columns with corresponding values\n",
        "    if cabin_value is not None:\n",
        "        df_train.loc[df_train['GroupId'] == group_id, 'Cabin'] = df_train.loc[df_train['GroupId'] == group_id, 'Cabin'].fillna(cabin_value)\n",
        "    if homeplanet_value is not None:\n",
        "        df_train.loc[df_train['GroupId'] == group_id, 'HomePlanet'] = df_train.loc[df_train['GroupId'] == group_id, 'HomePlanet'].fillna(homeplanet_value)\n",
        "    if destination_value is not None:\n",
        "        df_train.loc[df_train['GroupId'] == group_id, 'Destination'] = df_train.loc[df_train['GroupId'] == group_id, 'Destination'].fillna(destination_value)\n",
        "\n",
        "\n",
        "#Checking Null values after operation\n",
        "df_train.isnull().sum()\n"
      ]
    },
    {
      "cell_type": "markdown",
      "id": "SkJ7FrqvIed6",
      "metadata": {
        "id": "SkJ7FrqvIed6"
      },
      "source": [
        "### Feature Engineering\n"
      ]
    },
    {
      "cell_type": "markdown",
      "id": "Y-lVw3HII0kc",
      "metadata": {
        "id": "Y-lVw3HII0kc"
      },
      "source": [
        "- Extracted Deck values from Cabin Id to use it in further model fitting"
      ]
    },
    {
      "cell_type": "code",
      "execution_count": null,
      "id": "jDkMggie9SAf",
      "metadata": {
        "colab": {
          "background_save": true,
          "base_uri": "https://localhost:8080/"
        },
        "id": "jDkMggie9SAf",
        "outputId": "4cf59674-58b9-47f2-8b30-5830f0e8d281"
      },
      "outputs": [
        {
          "name": "stdout",
          "output_type": "stream",
          "text": [
            "  PassengerId HomePlanet CryoSleep  Cabin  Destination   Age    VIP  \\\n",
            "0     0001_01     Europa     False  B/0/P  TRAPPIST-1e  39.0  False   \n",
            "1     0002_01      Earth     False  F/0/S  TRAPPIST-1e  24.0  False   \n",
            "2     0003_01     Europa     False  A/0/S  TRAPPIST-1e  58.0   True   \n",
            "\n",
            "   RoomService  FoodCourt  ShoppingMall     Spa  VRDeck             Name  \\\n",
            "0          0.0        0.0           0.0     0.0     0.0  Maham Ofracculy   \n",
            "1        109.0        9.0          25.0   549.0    44.0     Juanna Vines   \n",
            "2         43.0     3576.0           0.0  6715.0    49.0    Altark Susent   \n",
            "\n",
            "   Transported GroupId Deck  \n",
            "0        False    0001    B  \n",
            "1         True    0002    F  \n",
            "2        False    0003    A  \n"
          ]
        }
      ],
      "source": [
        "# Extracting deck and side from Cabin column\n",
        "df_train['Cabin'] = df_train['Cabin'].astype(str)\n",
        "df_train['Deck'] = df_train['Cabin'].str[0]\n",
        "\n",
        "\n",
        "# Display the first few rows to verify the changes\n",
        "print(df_train.head(3))"
      ]
    },
    {
      "cell_type": "code",
      "execution_count": null,
      "id": "1765d9b4",
      "metadata": {
        "colab": {
          "background_save": true,
          "base_uri": "https://localhost:8080/"
        },
        "id": "1765d9b4",
        "outputId": "435703b7-e607-4e82-f3c6-0670ce34b0d5"
      },
      "outputs": [
        {
          "data": {
            "text/plain": [
              "PassengerId       0\n",
              "HomePlanet        0\n",
              "CryoSleep         0\n",
              "Cabin             0\n",
              "Destination       0\n",
              "Age               0\n",
              "VIP               0\n",
              "RoomService       0\n",
              "FoodCourt         0\n",
              "ShoppingMall      0\n",
              "Spa               0\n",
              "VRDeck            0\n",
              "Name            200\n",
              "Transported       0\n",
              "GroupId           0\n",
              "Deck              0\n",
              "dtype: int64"
            ]
          },
          "execution_count": 37,
          "metadata": {},
          "output_type": "execute_result"
        }
      ],
      "source": [
        "#CATEGORICAL VARIABLE\n",
        "\n",
        "#Identifying Categorical Features\n",
        "cat_columns = (['HomePlanet', 'CryoSleep', 'Destination','VIP','Deck'])\n",
        "cat_df = df_train[cat_columns]\n",
        "\n",
        "#Filling null cells with mode\n",
        "df_train[cat_columns] = df_train[cat_columns].fillna(df_train.mode().iloc[0])\n",
        "mode_value = df_train['Deck'].mode()[0]\n",
        "df_train['Deck'] = df_train['Deck'].replace('n', mode_value) # the null values of Deck might not be identified\n",
        "\n",
        "#CONTINUOUS VARIABLE\n",
        "\n",
        "#Identifying Continuous Features\n",
        "numerical_columns = df_train.select_dtypes(include=['float64', 'int64']).columns\n",
        "\n",
        "#Filling null cells with mean\n",
        "column_means = df_train[numerical_columns].mean()\n",
        "df_train[numerical_columns] = df_train[numerical_columns].fillna(column_means)\n",
        "\n",
        "#Checking Null values after operation\n",
        "df_train.isnull().sum()"
      ]
    },
    {
      "cell_type": "markdown",
      "id": "COVv0fY3_U2w",
      "metadata": {
        "id": "COVv0fY3_U2w"
      },
      "source": [
        "##Prediction Dataset"
      ]
    },
    {
      "cell_type": "code",
      "execution_count": null,
      "id": "04077DlPKd11",
      "metadata": {
        "colab": {
          "background_save": true,
          "base_uri": "https://localhost:8080/",
          "height": 143
        },
        "id": "04077DlPKd11",
        "outputId": "1ebc9dad-43ce-4fd2-dbeb-c333a076368c"
      },
      "outputs": [
        {
          "data": {
            "application/vnd.google.colaboratory.intrinsic+json": {
              "summary": "{\n  \"name\": \"df_predict\",\n  \"rows\": 4277,\n  \"fields\": [\n    {\n      \"column\": \"PassengerId\",\n      \"properties\": {\n        \"dtype\": \"string\",\n        \"num_unique_values\": 4277,\n        \"samples\": [\n          \"1135_02\",\n          \"0858_02\",\n          \"5588_01\"\n        ],\n        \"semantic_type\": \"\",\n        \"description\": \"\"\n      }\n    },\n    {\n      \"column\": \"HomePlanet\",\n      \"properties\": {\n        \"dtype\": \"category\",\n        \"num_unique_values\": 3,\n        \"samples\": [\n          \"Earth\",\n          \"Europa\",\n          \"Mars\"\n        ],\n        \"semantic_type\": \"\",\n        \"description\": \"\"\n      }\n    },\n    {\n      \"column\": \"CryoSleep\",\n      \"properties\": {\n        \"dtype\": \"category\",\n        \"num_unique_values\": 2,\n        \"samples\": [\n          false,\n          true\n        ],\n        \"semantic_type\": \"\",\n        \"description\": \"\"\n      }\n    },\n    {\n      \"column\": \"Cabin\",\n      \"properties\": {\n        \"dtype\": \"string\",\n        \"num_unique_values\": 3265,\n        \"samples\": [\n          \"F/956/P\",\n          \"D/11/S\"\n        ],\n        \"semantic_type\": \"\",\n        \"description\": \"\"\n      }\n    },\n    {\n      \"column\": \"Destination\",\n      \"properties\": {\n        \"dtype\": \"category\",\n        \"num_unique_values\": 3,\n        \"samples\": [\n          \"TRAPPIST-1e\",\n          \"55 Cancri e\"\n        ],\n        \"semantic_type\": \"\",\n        \"description\": \"\"\n      }\n    },\n    {\n      \"column\": \"Age\",\n      \"properties\": {\n        \"dtype\": \"number\",\n        \"std\": 14.179071585227373,\n        \"min\": 0.0,\n        \"max\": 79.0,\n        \"num_unique_values\": 79,\n        \"samples\": [\n          0.0,\n          27.0\n        ],\n        \"semantic_type\": \"\",\n        \"description\": \"\"\n      }\n    },\n    {\n      \"column\": \"VIP\",\n      \"properties\": {\n        \"dtype\": \"category\",\n        \"num_unique_values\": 2,\n        \"samples\": [\n          true,\n          false\n        ],\n        \"semantic_type\": \"\",\n        \"description\": \"\"\n      }\n    },\n    {\n      \"column\": \"RoomService\",\n      \"properties\": {\n        \"dtype\": \"number\",\n        \"std\": 607.0112887875921,\n        \"min\": 0.0,\n        \"max\": 11567.0,\n        \"num_unique_values\": 842,\n        \"samples\": [\n          1294.0,\n          980.0\n        ],\n        \"semantic_type\": \"\",\n        \"description\": \"\"\n      }\n    },\n    {\n      \"column\": \"FoodCourt\",\n      \"properties\": {\n        \"dtype\": \"number\",\n        \"std\": 1527.6630449251804,\n        \"min\": 0.0,\n        \"max\": 25273.0,\n        \"num_unique_values\": 902,\n        \"samples\": [\n          6442.0,\n          137.0\n        ],\n        \"semantic_type\": \"\",\n        \"description\": \"\"\n      }\n    },\n    {\n      \"column\": \"ShoppingMall\",\n      \"properties\": {\n        \"dtype\": \"number\",\n        \"std\": 560.8211231958651,\n        \"min\": 0.0,\n        \"max\": 8292.0,\n        \"num_unique_values\": 715,\n        \"samples\": [\n          529.0,\n          4471.0\n        ],\n        \"semantic_type\": \"\",\n        \"description\": \"\"\n      }\n    },\n    {\n      \"column\": \"Spa\",\n      \"properties\": {\n        \"dtype\": \"number\",\n        \"std\": 1117.1860149409592,\n        \"min\": 0.0,\n        \"max\": 19844.0,\n        \"num_unique_values\": 833,\n        \"samples\": [\n          498.0,\n          2212.0\n        ],\n        \"semantic_type\": \"\",\n        \"description\": \"\"\n      }\n    },\n    {\n      \"column\": \"VRDeck\",\n      \"properties\": {\n        \"dtype\": \"number\",\n        \"std\": 1246.9947416212326,\n        \"min\": 0.0,\n        \"max\": 22272.0,\n        \"num_unique_values\": 796,\n        \"samples\": [\n          3860.0,\n          2146.0\n        ],\n        \"semantic_type\": \"\",\n        \"description\": \"\"\n      }\n    },\n    {\n      \"column\": \"Name\",\n      \"properties\": {\n        \"dtype\": \"string\",\n        \"num_unique_values\": 4176,\n        \"samples\": [\n          \"Hekaron Cassiding\",\n          \"Volath Cry\"\n        ],\n        \"semantic_type\": \"\",\n        \"description\": \"\"\n      }\n    }\n  ]\n}",
              "type": "dataframe",
              "variable_name": "df_predict"
            },
            "text/html": [
              "\n",
              "  <div id=\"df-0b55d840-5d52-4e10-b714-0110738488b2\" class=\"colab-df-container\">\n",
              "    <div>\n",
              "<style scoped>\n",
              "    .dataframe tbody tr th:only-of-type {\n",
              "        vertical-align: middle;\n",
              "    }\n",
              "\n",
              "    .dataframe tbody tr th {\n",
              "        vertical-align: top;\n",
              "    }\n",
              "\n",
              "    .dataframe thead th {\n",
              "        text-align: right;\n",
              "    }\n",
              "</style>\n",
              "<table border=\"1\" class=\"dataframe\">\n",
              "  <thead>\n",
              "    <tr style=\"text-align: right;\">\n",
              "      <th></th>\n",
              "      <th>PassengerId</th>\n",
              "      <th>HomePlanet</th>\n",
              "      <th>CryoSleep</th>\n",
              "      <th>Cabin</th>\n",
              "      <th>Destination</th>\n",
              "      <th>Age</th>\n",
              "      <th>VIP</th>\n",
              "      <th>RoomService</th>\n",
              "      <th>FoodCourt</th>\n",
              "      <th>ShoppingMall</th>\n",
              "      <th>Spa</th>\n",
              "      <th>VRDeck</th>\n",
              "      <th>Name</th>\n",
              "    </tr>\n",
              "  </thead>\n",
              "  <tbody>\n",
              "    <tr>\n",
              "      <th>0</th>\n",
              "      <td>0013_01</td>\n",
              "      <td>Earth</td>\n",
              "      <td>True</td>\n",
              "      <td>G/3/S</td>\n",
              "      <td>TRAPPIST-1e</td>\n",
              "      <td>27.0</td>\n",
              "      <td>False</td>\n",
              "      <td>0.0</td>\n",
              "      <td>0.0</td>\n",
              "      <td>0.0</td>\n",
              "      <td>0.0</td>\n",
              "      <td>0.0</td>\n",
              "      <td>Nelly Carsoning</td>\n",
              "    </tr>\n",
              "    <tr>\n",
              "      <th>1</th>\n",
              "      <td>0018_01</td>\n",
              "      <td>Earth</td>\n",
              "      <td>False</td>\n",
              "      <td>F/4/S</td>\n",
              "      <td>TRAPPIST-1e</td>\n",
              "      <td>19.0</td>\n",
              "      <td>False</td>\n",
              "      <td>0.0</td>\n",
              "      <td>9.0</td>\n",
              "      <td>0.0</td>\n",
              "      <td>2823.0</td>\n",
              "      <td>0.0</td>\n",
              "      <td>Lerome Peckers</td>\n",
              "    </tr>\n",
              "    <tr>\n",
              "      <th>2</th>\n",
              "      <td>0019_01</td>\n",
              "      <td>Europa</td>\n",
              "      <td>True</td>\n",
              "      <td>C/0/S</td>\n",
              "      <td>55 Cancri e</td>\n",
              "      <td>31.0</td>\n",
              "      <td>False</td>\n",
              "      <td>0.0</td>\n",
              "      <td>0.0</td>\n",
              "      <td>0.0</td>\n",
              "      <td>0.0</td>\n",
              "      <td>0.0</td>\n",
              "      <td>Sabih Unhearfus</td>\n",
              "    </tr>\n",
              "  </tbody>\n",
              "</table>\n",
              "</div>\n",
              "    <div class=\"colab-df-buttons\">\n",
              "\n",
              "  <div class=\"colab-df-container\">\n",
              "    <button class=\"colab-df-convert\" onclick=\"convertToInteractive('df-0b55d840-5d52-4e10-b714-0110738488b2')\"\n",
              "            title=\"Convert this dataframe to an interactive table.\"\n",
              "            style=\"display:none;\">\n",
              "\n",
              "  <svg xmlns=\"http://www.w3.org/2000/svg\" height=\"24px\" viewBox=\"0 -960 960 960\">\n",
              "    <path d=\"M120-120v-720h720v720H120Zm60-500h600v-160H180v160Zm220 220h160v-160H400v160Zm0 220h160v-160H400v160ZM180-400h160v-160H180v160Zm440 0h160v-160H620v160ZM180-180h160v-160H180v160Zm440 0h160v-160H620v160Z\"/>\n",
              "  </svg>\n",
              "    </button>\n",
              "\n",
              "  <style>\n",
              "    .colab-df-container {\n",
              "      display:flex;\n",
              "      gap: 12px;\n",
              "    }\n",
              "\n",
              "    .colab-df-convert {\n",
              "      background-color: #E8F0FE;\n",
              "      border: none;\n",
              "      border-radius: 50%;\n",
              "      cursor: pointer;\n",
              "      display: none;\n",
              "      fill: #1967D2;\n",
              "      height: 32px;\n",
              "      padding: 0 0 0 0;\n",
              "      width: 32px;\n",
              "    }\n",
              "\n",
              "    .colab-df-convert:hover {\n",
              "      background-color: #E2EBFA;\n",
              "      box-shadow: 0px 1px 2px rgba(60, 64, 67, 0.3), 0px 1px 3px 1px rgba(60, 64, 67, 0.15);\n",
              "      fill: #174EA6;\n",
              "    }\n",
              "\n",
              "    .colab-df-buttons div {\n",
              "      margin-bottom: 4px;\n",
              "    }\n",
              "\n",
              "    [theme=dark] .colab-df-convert {\n",
              "      background-color: #3B4455;\n",
              "      fill: #D2E3FC;\n",
              "    }\n",
              "\n",
              "    [theme=dark] .colab-df-convert:hover {\n",
              "      background-color: #434B5C;\n",
              "      box-shadow: 0px 1px 3px 1px rgba(0, 0, 0, 0.15);\n",
              "      filter: drop-shadow(0px 1px 2px rgba(0, 0, 0, 0.3));\n",
              "      fill: #FFFFFF;\n",
              "    }\n",
              "  </style>\n",
              "\n",
              "    <script>\n",
              "      const buttonEl =\n",
              "        document.querySelector('#df-0b55d840-5d52-4e10-b714-0110738488b2 button.colab-df-convert');\n",
              "      buttonEl.style.display =\n",
              "        google.colab.kernel.accessAllowed ? 'block' : 'none';\n",
              "\n",
              "      async function convertToInteractive(key) {\n",
              "        const element = document.querySelector('#df-0b55d840-5d52-4e10-b714-0110738488b2');\n",
              "        const dataTable =\n",
              "          await google.colab.kernel.invokeFunction('convertToInteractive',\n",
              "                                                    [key], {});\n",
              "        if (!dataTable) return;\n",
              "\n",
              "        const docLinkHtml = 'Like what you see? Visit the ' +\n",
              "          '<a target=\"_blank\" href=https://colab.research.google.com/notebooks/data_table.ipynb>data table notebook</a>'\n",
              "          + ' to learn more about interactive tables.';\n",
              "        element.innerHTML = '';\n",
              "        dataTable['output_type'] = 'display_data';\n",
              "        await google.colab.output.renderOutput(dataTable, element);\n",
              "        const docLink = document.createElement('div');\n",
              "        docLink.innerHTML = docLinkHtml;\n",
              "        element.appendChild(docLink);\n",
              "      }\n",
              "    </script>\n",
              "  </div>\n",
              "\n",
              "\n",
              "<div id=\"df-8ea335a3-effc-4172-84f0-7ce60e78bf12\">\n",
              "  <button class=\"colab-df-quickchart\" onclick=\"quickchart('df-8ea335a3-effc-4172-84f0-7ce60e78bf12')\"\n",
              "            title=\"Suggest charts\"\n",
              "            style=\"display:none;\">\n",
              "\n",
              "<svg xmlns=\"http://www.w3.org/2000/svg\" height=\"24px\"viewBox=\"0 0 24 24\"\n",
              "     width=\"24px\">\n",
              "    <g>\n",
              "        <path d=\"M19 3H5c-1.1 0-2 .9-2 2v14c0 1.1.9 2 2 2h14c1.1 0 2-.9 2-2V5c0-1.1-.9-2-2-2zM9 17H7v-7h2v7zm4 0h-2V7h2v10zm4 0h-2v-4h2v4z\"/>\n",
              "    </g>\n",
              "</svg>\n",
              "  </button>\n",
              "\n",
              "<style>\n",
              "  .colab-df-quickchart {\n",
              "      --bg-color: #E8F0FE;\n",
              "      --fill-color: #1967D2;\n",
              "      --hover-bg-color: #E2EBFA;\n",
              "      --hover-fill-color: #174EA6;\n",
              "      --disabled-fill-color: #AAA;\n",
              "      --disabled-bg-color: #DDD;\n",
              "  }\n",
              "\n",
              "  [theme=dark] .colab-df-quickchart {\n",
              "      --bg-color: #3B4455;\n",
              "      --fill-color: #D2E3FC;\n",
              "      --hover-bg-color: #434B5C;\n",
              "      --hover-fill-color: #FFFFFF;\n",
              "      --disabled-bg-color: #3B4455;\n",
              "      --disabled-fill-color: #666;\n",
              "  }\n",
              "\n",
              "  .colab-df-quickchart {\n",
              "    background-color: var(--bg-color);\n",
              "    border: none;\n",
              "    border-radius: 50%;\n",
              "    cursor: pointer;\n",
              "    display: none;\n",
              "    fill: var(--fill-color);\n",
              "    height: 32px;\n",
              "    padding: 0;\n",
              "    width: 32px;\n",
              "  }\n",
              "\n",
              "  .colab-df-quickchart:hover {\n",
              "    background-color: var(--hover-bg-color);\n",
              "    box-shadow: 0 1px 2px rgba(60, 64, 67, 0.3), 0 1px 3px 1px rgba(60, 64, 67, 0.15);\n",
              "    fill: var(--button-hover-fill-color);\n",
              "  }\n",
              "\n",
              "  .colab-df-quickchart-complete:disabled,\n",
              "  .colab-df-quickchart-complete:disabled:hover {\n",
              "    background-color: var(--disabled-bg-color);\n",
              "    fill: var(--disabled-fill-color);\n",
              "    box-shadow: none;\n",
              "  }\n",
              "\n",
              "  .colab-df-spinner {\n",
              "    border: 2px solid var(--fill-color);\n",
              "    border-color: transparent;\n",
              "    border-bottom-color: var(--fill-color);\n",
              "    animation:\n",
              "      spin 1s steps(1) infinite;\n",
              "  }\n",
              "\n",
              "  @keyframes spin {\n",
              "    0% {\n",
              "      border-color: transparent;\n",
              "      border-bottom-color: var(--fill-color);\n",
              "      border-left-color: var(--fill-color);\n",
              "    }\n",
              "    20% {\n",
              "      border-color: transparent;\n",
              "      border-left-color: var(--fill-color);\n",
              "      border-top-color: var(--fill-color);\n",
              "    }\n",
              "    30% {\n",
              "      border-color: transparent;\n",
              "      border-left-color: var(--fill-color);\n",
              "      border-top-color: var(--fill-color);\n",
              "      border-right-color: var(--fill-color);\n",
              "    }\n",
              "    40% {\n",
              "      border-color: transparent;\n",
              "      border-right-color: var(--fill-color);\n",
              "      border-top-color: var(--fill-color);\n",
              "    }\n",
              "    60% {\n",
              "      border-color: transparent;\n",
              "      border-right-color: var(--fill-color);\n",
              "    }\n",
              "    80% {\n",
              "      border-color: transparent;\n",
              "      border-right-color: var(--fill-color);\n",
              "      border-bottom-color: var(--fill-color);\n",
              "    }\n",
              "    90% {\n",
              "      border-color: transparent;\n",
              "      border-bottom-color: var(--fill-color);\n",
              "    }\n",
              "  }\n",
              "</style>\n",
              "\n",
              "  <script>\n",
              "    async function quickchart(key) {\n",
              "      const quickchartButtonEl =\n",
              "        document.querySelector('#' + key + ' button');\n",
              "      quickchartButtonEl.disabled = true;  // To prevent multiple clicks.\n",
              "      quickchartButtonEl.classList.add('colab-df-spinner');\n",
              "      try {\n",
              "        const charts = await google.colab.kernel.invokeFunction(\n",
              "            'suggestCharts', [key], {});\n",
              "      } catch (error) {\n",
              "        console.error('Error during call to suggestCharts:', error);\n",
              "      }\n",
              "      quickchartButtonEl.classList.remove('colab-df-spinner');\n",
              "      quickchartButtonEl.classList.add('colab-df-quickchart-complete');\n",
              "    }\n",
              "    (() => {\n",
              "      let quickchartButtonEl =\n",
              "        document.querySelector('#df-8ea335a3-effc-4172-84f0-7ce60e78bf12 button');\n",
              "      quickchartButtonEl.style.display =\n",
              "        google.colab.kernel.accessAllowed ? 'block' : 'none';\n",
              "    })();\n",
              "  </script>\n",
              "</div>\n",
              "\n",
              "    </div>\n",
              "  </div>\n"
            ],
            "text/plain": [
              "  PassengerId HomePlanet CryoSleep  Cabin  Destination   Age    VIP  \\\n",
              "0     0013_01      Earth      True  G/3/S  TRAPPIST-1e  27.0  False   \n",
              "1     0018_01      Earth     False  F/4/S  TRAPPIST-1e  19.0  False   \n",
              "2     0019_01     Europa      True  C/0/S  55 Cancri e  31.0  False   \n",
              "\n",
              "   RoomService  FoodCourt  ShoppingMall     Spa  VRDeck             Name  \n",
              "0          0.0        0.0           0.0     0.0     0.0  Nelly Carsoning  \n",
              "1          0.0        9.0           0.0  2823.0     0.0   Lerome Peckers  \n",
              "2          0.0        0.0           0.0     0.0     0.0  Sabih Unhearfus  "
            ]
          },
          "execution_count": 38,
          "metadata": {},
          "output_type": "execute_result"
        }
      ],
      "source": [
        "#preview of the prediction data\n",
        "df_predict.head(3)"
      ]
    },
    {
      "cell_type": "code",
      "execution_count": null,
      "id": "TL833mgjKkO5",
      "metadata": {
        "colab": {
          "background_save": true,
          "base_uri": "https://localhost:8080/"
        },
        "id": "TL833mgjKkO5",
        "outputId": "2fa8402c-8f7e-49dd-d586-23ebc9889ae7"
      },
      "outputs": [
        {
          "data": {
            "text/plain": [
              "(4277, 13)"
            ]
          },
          "execution_count": 39,
          "metadata": {},
          "output_type": "execute_result"
        }
      ],
      "source": [
        "#Understanding the shape\n",
        "df_predict.shape"
      ]
    },
    {
      "cell_type": "code",
      "execution_count": null,
      "id": "zg30-PI__vvX",
      "metadata": {
        "colab": {
          "background_save": true,
          "base_uri": "https://localhost:8080/"
        },
        "id": "zg30-PI__vvX",
        "outputId": "f7c66a2f-cb91-4d78-97fb-0839d354cbe4"
      },
      "outputs": [
        {
          "data": {
            "text/plain": [
              "PassengerId       0\n",
              "HomePlanet       87\n",
              "CryoSleep        93\n",
              "Cabin           100\n",
              "Destination      92\n",
              "Age              91\n",
              "VIP              93\n",
              "RoomService      82\n",
              "FoodCourt       106\n",
              "ShoppingMall     98\n",
              "Spa             101\n",
              "VRDeck           80\n",
              "Name             94\n",
              "dtype: int64"
            ]
          },
          "execution_count": 40,
          "metadata": {},
          "output_type": "execute_result"
        }
      ],
      "source": [
        "#Checking Null cells\n",
        "df_predict.isnull().sum()"
      ]
    },
    {
      "cell_type": "markdown",
      "id": "FCjywEV1_9fR",
      "metadata": {
        "id": "FCjywEV1_9fR"
      },
      "source": [
        "**Dealing with Null Cells:**\n",
        "\n",
        "- The Categorical features with null cells to be ffilled with most frequent value\n",
        "- The Continuos Featured with null cells to be filled with mean value"
      ]
    },
    {
      "cell_type": "code",
      "execution_count": null,
      "id": "nYjHAeVG1o2P",
      "metadata": {
        "colab": {
          "background_save": true
        },
        "id": "nYjHAeVG1o2P",
        "outputId": "305dd4dd-1ce3-4112-bdca-f0aa3041156f"
      },
      "outputs": [
        {
          "data": {
            "text/plain": [
              "PassengerId       0\n",
              "HomePlanet       46\n",
              "CryoSleep        93\n",
              "Cabin            63\n",
              "Destination      51\n",
              "Age              91\n",
              "VIP              93\n",
              "RoomService      82\n",
              "FoodCourt       106\n",
              "ShoppingMall     98\n",
              "Spa             101\n",
              "VRDeck           80\n",
              "Name             94\n",
              "GroupId           0\n",
              "dtype: int64"
            ]
          },
          "execution_count": 41,
          "metadata": {},
          "output_type": "execute_result"
        }
      ],
      "source": [
        "## Extract first four digits of PassengerId to create GroupId column\n",
        "df_predict['GroupId'] = df_predict['PassengerId'].str[:4]\n",
        "\n",
        "# Get unique GroupId values\n",
        "unique_group_ids_predict = df_predict['GroupId'].unique()\n",
        "\n",
        "# Iterate over unique GroupId values\n",
        "for group_id in unique_group_ids_predict:\n",
        "    # Find rows with the same GroupId\n",
        "    group_rows_predict = df_predict[df_predict['GroupId'] == group_id]\n",
        "\n",
        "    # Find non-null values of Cabin, HomePlanet, and Destination for this group\n",
        "    cabin_not_null = group_rows_predict['Cabin'].notnull()\n",
        "    homeplanet_not_null = group_rows_predict['HomePlanet'].notnull()\n",
        "    destination_not_null = group_rows_predict['Destination'].notnull()\n",
        "\n",
        "    # Get non-null values\n",
        "    cabin_value = group_rows_predict.loc[cabin_not_null, 'Cabin'].iloc[0] if any(cabin_not_null) else None\n",
        "    homeplanet_value = group_rows_predict.loc[homeplanet_not_null, 'HomePlanet'].iloc[0] if any(homeplanet_not_null) else None\n",
        "    destination_value = group_rows_predict.loc[destination_not_null, 'Destination'].iloc[0] if any(destination_not_null) else None\n",
        "\n",
        "    # Fill null cells of Cabin, HomePlanet, and Destination columns with corresponding values\n",
        "    if cabin_value is not None:\n",
        "        df_predict.loc[df_predict['GroupId'] == group_id, 'Cabin'] = df_predict.loc[df_predict['GroupId'] == group_id, 'Cabin'].fillna(cabin_value)\n",
        "    if homeplanet_value is not None:\n",
        "        df_predict.loc[df_predict['GroupId'] == group_id, 'HomePlanet'] = df_predict.loc[df_predict['GroupId'] == group_id, 'HomePlanet'].fillna(homeplanet_value)\n",
        "    if destination_value is not None:\n",
        "        df_predict.loc[df_predict['GroupId'] == group_id, 'Destination'] = df_predict.loc[df_predict['GroupId'] == group_id, 'Destination'].fillna(destination_value)\n",
        "\n",
        "\n",
        "\n",
        "#Checking Null values after operation\n",
        "df_predict.isnull().sum()\n"
      ]
    },
    {
      "cell_type": "code",
      "execution_count": null,
      "id": "Mntxd9J0_0kB",
      "metadata": {
        "colab": {
          "background_save": true
        },
        "id": "Mntxd9J0_0kB",
        "outputId": "37c58425-fc2f-4e68-d767-ed87c46acfe2"
      },
      "outputs": [
        {
          "data": {
            "text/plain": [
              "PassengerId      0\n",
              "HomePlanet       0\n",
              "CryoSleep        0\n",
              "Cabin            0\n",
              "Destination      0\n",
              "Age              0\n",
              "VIP              0\n",
              "RoomService      0\n",
              "FoodCourt        0\n",
              "ShoppingMall     0\n",
              "Spa              0\n",
              "VRDeck           0\n",
              "Name            94\n",
              "GroupId          0\n",
              "dtype: int64"
            ]
          },
          "execution_count": 42,
          "metadata": {},
          "output_type": "execute_result"
        }
      ],
      "source": [
        "#CATEGORICAL VARIABLE\n",
        "\n",
        "#Identifying Categorical Features\n",
        "cat_columns_predict = (['HomePlanet', 'CryoSleep', 'Cabin', 'Destination','VIP'])\n",
        "cat_df_predict = df_predict[cat_columns_predict]\n",
        "\n",
        "#Filling null cells with mode\n",
        "df_predict[cat_columns_predict] = df_predict[cat_columns_predict].fillna(df_predict.mode().iloc[0])\n",
        "\n",
        "#CONTINUOUS VARIABLE\n",
        "\n",
        "#Identifying Continuous Features\n",
        "numerical_columns_predict = df_predict.select_dtypes(include=['float64', 'int64']).columns\n",
        "\n",
        "#Filling null cells with mean\n",
        "column_means_predict = df_predict[numerical_columns_predict].mean()\n",
        "df_predict[numerical_columns_predict] = df_predict[numerical_columns_predict].fillna(column_means_predict)\n",
        "\n",
        "#Checking Null values after operation\n",
        "df_predict.isnull().sum()"
      ]
    },
    {
      "cell_type": "code",
      "execution_count": null,
      "id": "FE66HCQM4txx",
      "metadata": {
        "colab": {
          "background_save": true
        },
        "id": "FE66HCQM4txx",
        "outputId": "c83f1950-8f74-4ae4-c030-d9344a2af4c4"
      },
      "outputs": [
        {
          "name": "stdout",
          "output_type": "stream",
          "text": [
            "  PassengerId HomePlanet  CryoSleep  Cabin  Destination   Age    VIP  \\\n",
            "0     0013_01      Earth       True  G/3/S  TRAPPIST-1e  27.0  False   \n",
            "1     0018_01      Earth      False  F/4/S  TRAPPIST-1e  19.0  False   \n",
            "2     0019_01     Europa       True  C/0/S  55 Cancri e  31.0  False   \n",
            "3     0021_01     Europa      False  C/1/S  TRAPPIST-1e  38.0  False   \n",
            "4     0023_01      Earth      False  F/5/S  TRAPPIST-1e  20.0  False   \n",
            "\n",
            "   RoomService  FoodCourt  ShoppingMall     Spa  VRDeck              Name  \\\n",
            "0          0.0        0.0           0.0     0.0     0.0   Nelly Carsoning   \n",
            "1          0.0        9.0           0.0  2823.0     0.0    Lerome Peckers   \n",
            "2          0.0        0.0           0.0     0.0     0.0   Sabih Unhearfus   \n",
            "3          0.0     6652.0           0.0   181.0   585.0  Meratz Caltilter   \n",
            "4         10.0        0.0         635.0     0.0     0.0   Brence Harperez   \n",
            "\n",
            "  GroupId Deck  \n",
            "0    0013    G  \n",
            "1    0018    F  \n",
            "2    0019    C  \n",
            "3    0021    C  \n",
            "4    0023    F  \n",
            "['G' 'F' 'C' 'B' 'D' 'E' 'A' 'T']\n"
          ]
        }
      ],
      "source": [
        "# Extracting deck and side from Cabin column\n",
        "df_predict['Cabin'] = df_predict['Cabin'].astype(str)\n",
        "df_predict['Deck'] = df_predict['Cabin'].str[0]\n",
        "\n",
        "# Display the first few rows to verify the changes\n",
        "print(df_predict.head())\n",
        "unique_decks = df_predict['Deck'].unique()\n",
        "print(unique_decks)"
      ]
    },
    {
      "cell_type": "markdown",
      "id": "Ei3jMHi7JPDw",
      "metadata": {
        "id": "Ei3jMHi7JPDw"
      },
      "source": [
        "# Exploratory Analysis"
      ]
    },
    {
      "cell_type": "code",
      "execution_count": null,
      "id": "p5-6W4yHWJBU",
      "metadata": {
        "colab": {
          "background_save": true
        },
        "id": "p5-6W4yHWJBU",
        "outputId": "82c71f5d-bb1f-42aa-8f90-eb2965c851ba"
      },
      "outputs": [
        {
          "data": {
            "image/png": "[encoded data removed]",
            "text/plain": [
              "<Figure size 1200x1000 with 6 Axes>"
            ]
          },
          "metadata": {},
          "output_type": "display_data"
        }
      ],
      "source": [
        "#Plotting histogram for Continuous features\n",
        "\n",
        "num_train = df_train[['Age','RoomService','FoodCourt', 'ShoppingMall', 'Spa','VRDeck']]\n",
        "num_train = (num_train)\n",
        "num_train.hist(figsize =(12, 10), bins= 10, edgecolor = \"black\")\n",
        "plt.subplots_adjust(hspace = 0.7, wspace = 0.2)"
      ]
    },
    {
      "cell_type": "markdown",
      "id": "hLEWf7HIQqXu",
      "metadata": {
        "id": "hLEWf7HIQqXu"
      },
      "source": [
        "Age is approximately normally distributed\n",
        "\n",
        "other services are mostly not ordered by the passangers with few exceptions\n",
        "\n",
        "We will need to transform the features"
      ]
    },
    {
      "cell_type": "code",
      "execution_count": null,
      "id": "IGkanDOfIK7s",
      "metadata": {
        "colab": {
          "background_save": true
        },
        "id": "IGkanDOfIK7s",
        "outputId": "551c452e-0937-4e08-a3f4-d331c8844253"
      },
      "outputs": [
        {
          "data": {
            "image/png": "[encoded data removed]",
            "text/plain": [
              "<Figure size 1000x800 with 6 Axes>"
            ]
          },
          "metadata": {},
          "output_type": "display_data"
        }
      ],
      "source": [
        "# log transformation of skewed data\n",
        "\n",
        "log_data = np.cbrt(df_train[['RoomService', 'FoodCourt', 'ShoppingMall', 'Spa', 'VRDeck']])\n",
        "log_data = (log_data)\n",
        "log_data.hist(figsize = (10,8), bins = 20)\n",
        "plt.subplots_adjust(hspace = 0.7, wspace = 0.2)\n"
      ]
    },
    {
      "cell_type": "markdown",
      "id": "eOTYaLhh5SDj",
      "metadata": {
        "id": "eOTYaLhh5SDj"
      },
      "source": [
        "The transformation had no major change on the distribution of the continous variables. This is because most of the recorded data for these variables is zero."
      ]
    },
    {
      "cell_type": "code",
      "execution_count": null,
      "id": "91XDdI5k34Mp",
      "metadata": {
        "colab": {
          "background_save": true
        },
        "id": "91XDdI5k34Mp",
        "outputId": "bb9e22e4-04b0-46d5-de67-bac7717f86c6"
      },
      "outputs": [
        {
          "data": {
            "text/plain": [
              "<Axes: xlabel='HomePlanet'>"
            ]
          },
          "execution_count": 46,
          "metadata": {},
          "output_type": "execute_result"
        },
        {
          "data": {
            "image/png": "[encoded data removed]",
            "text/plain": [
              "<Figure size 640x480 with 1 Axes>"
            ]
          },
          "metadata": {},
          "output_type": "display_data"
        }
      ],
      "source": [
        "# Bar Chart for categorical features\n",
        "\n",
        "df_train['HomePlanet'].value_counts().plot(kind= 'bar')"
      ]
    },
    {
      "cell_type": "code",
      "execution_count": null,
      "id": "rWSS8QYTEaal",
      "metadata": {
        "colab": {
          "background_save": true
        },
        "id": "rWSS8QYTEaal",
        "outputId": "deba6518-1f05-48bf-b673-b348990caf3a"
      },
      "outputs": [
        {
          "data": {
            "text/plain": [
              "<Axes: xlabel='CryoSleep'>"
            ]
          },
          "execution_count": 47,
          "metadata": {},
          "output_type": "execute_result"
        },
        {
          "data": {
            "image/png": "[encoded data removed]",
            "text/plain": [
              "<Figure size 640x480 with 1 Axes>"
            ]
          },
          "metadata": {},
          "output_type": "display_data"
        }
      ],
      "source": [
        "df_train['CryoSleep'].value_counts().plot(kind= 'bar')"
      ]
    },
    {
      "cell_type": "code",
      "execution_count": null,
      "id": "XVhwnlsHEleX",
      "metadata": {
        "colab": {
          "background_save": true
        },
        "id": "XVhwnlsHEleX",
        "outputId": "a96f30c0-0a3c-4b09-e76d-ed41087b86c3"
      },
      "outputs": [
        {
          "data": {
            "text/plain": [
              "<Axes: xlabel='Destination'>"
            ]
          },
          "execution_count": 48,
          "metadata": {},
          "output_type": "execute_result"
        },
        {
          "data": {
            "image/png": "[encoded data removed]",
            "text/plain": [
              "<Figure size 640x480 with 1 Axes>"
            ]
          },
          "metadata": {},
          "output_type": "display_data"
        }
      ],
      "source": [
        "df_train['Destination'].value_counts().plot(kind = 'bar')"
      ]
    },
    {
      "cell_type": "code",
      "execution_count": null,
      "id": "3MkNK8DKFVdR",
      "metadata": {
        "colab": {
          "background_save": true
        },
        "id": "3MkNK8DKFVdR",
        "outputId": "c82e55b0-4d7b-4dca-f422-33ca02a24088"
      },
      "outputs": [
        {
          "data": {
            "text/plain": [
              "<Axes: xlabel='VIP'>"
            ]
          },
          "execution_count": 49,
          "metadata": {},
          "output_type": "execute_result"
        },
        {
          "data": {
            "image/png": "[encoded data removed]",
            "text/plain": [
              "<Figure size 640x480 with 1 Axes>"
            ]
          },
          "metadata": {},
          "output_type": "display_data"
        }
      ],
      "source": [
        "df_train['VIP'].value_counts().plot(kind = 'bar')"
      ]
    },
    {
      "cell_type": "code",
      "execution_count": null,
      "id": "3y32crc_Fqfx",
      "metadata": {
        "colab": {
          "background_save": true
        },
        "id": "3y32crc_Fqfx",
        "outputId": "164c1bd9-8b84-4efa-a88d-1c52ab520b4e"
      },
      "outputs": [
        {
          "data": {
            "text/plain": [
              "<Axes: xlabel='Transported'>"
            ]
          },
          "execution_count": 50,
          "metadata": {},
          "output_type": "execute_result"
        },
        {
          "data": {
            "image/png": "[encoded data removed]",
            "text/plain": [
              "<Figure size 640x480 with 1 Axes>"
            ]
          },
          "metadata": {},
          "output_type": "display_data"
        }
      ],
      "source": [
        "df_train['Transported'].value_counts().plot(kind = 'bar')"
      ]
    },
    {
      "cell_type": "markdown",
      "id": "1Y5Bgnf1Hfg_",
      "metadata": {
        "id": "1Y5Bgnf1Hfg_"
      },
      "source": []
    },
    {
      "cell_type": "markdown",
      "id": "KElw0mV8JxYU",
      "metadata": {
        "id": "KElw0mV8JxYU"
      },
      "source": []
    },
    {
      "cell_type": "code",
      "execution_count": null,
      "id": "qkmGTTpURnf_",
      "metadata": {
        "colab": {
          "background_save": true
        },
        "id": "qkmGTTpURnf_",
        "outputId": "1f5f833a-b518-4af5-9374-e39aec258245"
      },
      "outputs": [
        {
          "data": {
            "text/plain": [
              "Transported\n",
              "True     0.503624\n",
              "False    0.496376\n",
              "Name: proportion, dtype: float64"
            ]
          },
          "execution_count": 51,
          "metadata": {},
          "output_type": "execute_result"
        }
      ],
      "source": [
        "df_train.Transported.value_counts(normalize=True)"
      ]
    },
    {
      "cell_type": "code",
      "execution_count": null,
      "id": "S8vuoGC3C7J1",
      "metadata": {
        "colab": {
          "background_save": true
        },
        "id": "S8vuoGC3C7J1",
        "outputId": "7734e02b-26a8-4ca9-dd01-f63dcab1862a"
      },
      "outputs": [
        {
          "name": "stdout",
          "output_type": "stream",
          "text": [
            "        feature       VIF\n",
            "0         const  5.137501\n",
            "1           Age  1.036334\n",
            "2   RoomService  1.008278\n",
            "3     FoodCourt  1.104140\n",
            "4  ShoppingMall  1.004194\n",
            "5           Spa  1.071354\n",
            "6        VRDeck  1.069298\n"
          ]
        }
      ],
      "source": [
        "import numpy as np\n",
        "from statsmodels.stats.outliers_influence import variance_inflation_factor\n",
        "from statsmodels.tools.tools import add_constant\n",
        "\n",
        "# Drop non-numeric columns\n",
        "numeric_df = df_train.select_dtypes(include=[np.number])\n",
        "\n",
        "# Add a constant term (intercept) for the VIF calculation\n",
        "numeric_df = add_constant(numeric_df)\n",
        "\n",
        "# Calculate VIF\n",
        "vif_data = pd.DataFrame()\n",
        "vif_data[\"feature\"] = numeric_df.columns\n",
        "vif_data[\"VIF\"] = [variance_inflation_factor(numeric_df.values, i) for i in range(numeric_df.shape[1])]\n",
        "\n",
        "print(vif_data)"
      ]
    },
    {
      "cell_type": "markdown",
      "id": "Sb5c4JRZLdEL",
      "metadata": {
        "id": "Sb5c4JRZLdEL"
      },
      "source": [
        "#Inferential Analysis"
      ]
    },
    {
      "cell_type": "markdown",
      "id": "eS1cw-qeMBcS",
      "metadata": {
        "id": "eS1cw-qeMBcS"
      },
      "source": [
        "## Exploring Statistical Models"
      ]
    },
    {
      "cell_type": "markdown",
      "id": "Re_PzIpMhgI6",
      "metadata": {
        "id": "Re_PzIpMhgI6"
      },
      "source": [
        "Model Selection:\n",
        "\n",
        "The dependent variable (outcome) of our dataset is binary.\n",
        "We will explore 3models; Logistic regression, Decision Tree and Random forest. The model with the highest accuracy score would be use to predict the unseen (test) dataset.\n",
        "\n",
        "For our model we will use all varaibles except Names and passenger's ID.\n",
        "\n"
      ]
    },
    {
      "cell_type": "markdown",
      "id": "MPiMwfSbLib6",
      "metadata": {
        "id": "MPiMwfSbLib6"
      },
      "source": [
        "### Logistic Regression"
      ]
    },
    {
      "cell_type": "code",
      "execution_count": null,
      "id": "mECIK5qQCQny",
      "metadata": {
        "colab": {
          "background_save": true
        },
        "id": "mECIK5qQCQny",
        "outputId": "4513e38b-869a-40f4-bc9e-0840b39594d2"
      },
      "outputs": [
        {
          "data": {
            "application/vnd.google.colaboratory.intrinsic+json": {
              "summary": "{\n  \"name\": \"Cat_dummy\",\n  \"rows\": 8693,\n  \"fields\": [\n    {\n      \"column\": \"HomePlanet_Europa\",\n      \"properties\": {\n        \"dtype\": \"boolean\",\n        \"num_unique_values\": 2,\n        \"samples\": [\n          false,\n          true\n        ],\n        \"semantic_type\": \"\",\n        \"description\": \"\"\n      }\n    },\n    {\n      \"column\": \"HomePlanet_Mars\",\n      \"properties\": {\n        \"dtype\": \"boolean\",\n        \"num_unique_values\": 2,\n        \"samples\": [\n          true,\n          false\n        ],\n        \"semantic_type\": \"\",\n        \"description\": \"\"\n      }\n    },\n    {\n      \"column\": \"Destination_PSO J318.5-22\",\n      \"properties\": {\n        \"dtype\": \"boolean\",\n        \"num_unique_values\": 2,\n        \"samples\": [\n          true,\n          false\n        ],\n        \"semantic_type\": \"\",\n        \"description\": \"\"\n      }\n    },\n    {\n      \"column\": \"Destination_TRAPPIST-1e\",\n      \"properties\": {\n        \"dtype\": \"boolean\",\n        \"num_unique_values\": 2,\n        \"samples\": [\n          false,\n          true\n        ],\n        \"semantic_type\": \"\",\n        \"description\": \"\"\n      }\n    },\n    {\n      \"column\": \"Deck_B\",\n      \"properties\": {\n        \"dtype\": \"boolean\",\n        \"num_unique_values\": 2,\n        \"samples\": [\n          false,\n          true\n        ],\n        \"semantic_type\": \"\",\n        \"description\": \"\"\n      }\n    },\n    {\n      \"column\": \"Deck_C\",\n      \"properties\": {\n        \"dtype\": \"boolean\",\n        \"num_unique_values\": 2,\n        \"samples\": [\n          true,\n          false\n        ],\n        \"semantic_type\": \"\",\n        \"description\": \"\"\n      }\n    },\n    {\n      \"column\": \"Deck_D\",\n      \"properties\": {\n        \"dtype\": \"boolean\",\n        \"num_unique_values\": 2,\n        \"samples\": [\n          true,\n          false\n        ],\n        \"semantic_type\": \"\",\n        \"description\": \"\"\n      }\n    },\n    {\n      \"column\": \"Deck_E\",\n      \"properties\": {\n        \"dtype\": \"boolean\",\n        \"num_unique_values\": 2,\n        \"samples\": [\n          true,\n          false\n        ],\n        \"semantic_type\": \"\",\n        \"description\": \"\"\n      }\n    },\n    {\n      \"column\": \"Deck_F\",\n      \"properties\": {\n        \"dtype\": \"boolean\",\n        \"num_unique_values\": 2,\n        \"samples\": [\n          true,\n          false\n        ],\n        \"semantic_type\": \"\",\n        \"description\": \"\"\n      }\n    },\n    {\n      \"column\": \"Deck_G\",\n      \"properties\": {\n        \"dtype\": \"boolean\",\n        \"num_unique_values\": 2,\n        \"samples\": [\n          true,\n          false\n        ],\n        \"semantic_type\": \"\",\n        \"description\": \"\"\n      }\n    },\n    {\n      \"column\": \"Deck_T\",\n      \"properties\": {\n        \"dtype\": \"boolean\",\n        \"num_unique_values\": 2,\n        \"samples\": [\n          true,\n          false\n        ],\n        \"semantic_type\": \"\",\n        \"description\": \"\"\n      }\n    }\n  ]\n}",
              "type": "dataframe",
              "variable_name": "Cat_dummy"
            },
            "text/html": [
              "\n",
              "  <div id=\"df-19f88a69-bd20-4024-b759-88c00c15fe4c\" class=\"colab-df-container\">\n",
              "    <div>\n",
              "<style scoped>\n",
              "    .dataframe tbody tr th:only-of-type {\n",
              "        vertical-align: middle;\n",
              "    }\n",
              "\n",
              "    .dataframe tbody tr th {\n",
              "        vertical-align: top;\n",
              "    }\n",
              "\n",
              "    .dataframe thead th {\n",
              "        text-align: right;\n",
              "    }\n",
              "</style>\n",
              "<table border=\"1\" class=\"dataframe\">\n",
              "  <thead>\n",
              "    <tr style=\"text-align: right;\">\n",
              "      <th></th>\n",
              "      <th>HomePlanet_Europa</th>\n",
              "      <th>HomePlanet_Mars</th>\n",
              "      <th>Destination_PSO J318.5-22</th>\n",
              "      <th>Destination_TRAPPIST-1e</th>\n",
              "      <th>Deck_B</th>\n",
              "      <th>Deck_C</th>\n",
              "      <th>Deck_D</th>\n",
              "      <th>Deck_E</th>\n",
              "      <th>Deck_F</th>\n",
              "      <th>Deck_G</th>\n",
              "      <th>Deck_T</th>\n",
              "    </tr>\n",
              "  </thead>\n",
              "  <tbody>\n",
              "    <tr>\n",
              "      <th>0</th>\n",
              "      <td>True</td>\n",
              "      <td>False</td>\n",
              "      <td>False</td>\n",
              "      <td>True</td>\n",
              "      <td>True</td>\n",
              "      <td>False</td>\n",
              "      <td>False</td>\n",
              "      <td>False</td>\n",
              "      <td>False</td>\n",
              "      <td>False</td>\n",
              "      <td>False</td>\n",
              "    </tr>\n",
              "    <tr>\n",
              "      <th>1</th>\n",
              "      <td>False</td>\n",
              "      <td>False</td>\n",
              "      <td>False</td>\n",
              "      <td>True</td>\n",
              "      <td>False</td>\n",
              "      <td>False</td>\n",
              "      <td>False</td>\n",
              "      <td>False</td>\n",
              "      <td>True</td>\n",
              "      <td>False</td>\n",
              "      <td>False</td>\n",
              "    </tr>\n",
              "    <tr>\n",
              "      <th>2</th>\n",
              "      <td>True</td>\n",
              "      <td>False</td>\n",
              "      <td>False</td>\n",
              "      <td>True</td>\n",
              "      <td>False</td>\n",
              "      <td>False</td>\n",
              "      <td>False</td>\n",
              "      <td>False</td>\n",
              "      <td>False</td>\n",
              "      <td>False</td>\n",
              "      <td>False</td>\n",
              "    </tr>\n",
              "  </tbody>\n",
              "</table>\n",
              "</div>\n",
              "    <div class=\"colab-df-buttons\">\n",
              "\n",
              "  <div class=\"colab-df-container\">\n",
              "    <button class=\"colab-df-convert\" onclick=\"convertToInteractive('df-19f88a69-bd20-4024-b759-88c00c15fe4c')\"\n",
              "            title=\"Convert this dataframe to an interactive table.\"\n",
              "            style=\"display:none;\">\n",
              "\n",
              "  <svg xmlns=\"http://www.w3.org/2000/svg\" height=\"24px\" viewBox=\"0 -960 960 960\">\n",
              "    <path d=\"M120-120v-720h720v720H120Zm60-500h600v-160H180v160Zm220 220h160v-160H400v160Zm0 220h160v-160H400v160ZM180-400h160v-160H180v160Zm440 0h160v-160H620v160ZM180-180h160v-160H180v160Zm440 0h160v-160H620v160Z\"/>\n",
              "  </svg>\n",
              "    </button>\n",
              "\n",
              "  <style>\n",
              "    .colab-df-container {\n",
              "      display:flex;\n",
              "      gap: 12px;\n",
              "    }\n",
              "\n",
              "    .colab-df-convert {\n",
              "      background-color: #E8F0FE;\n",
              "      border: none;\n",
              "      border-radius: 50%;\n",
              "      cursor: pointer;\n",
              "      display: none;\n",
              "      fill: #1967D2;\n",
              "      height: 32px;\n",
              "      padding: 0 0 0 0;\n",
              "      width: 32px;\n",
              "    }\n",
              "\n",
              "    .colab-df-convert:hover {\n",
              "      background-color: #E2EBFA;\n",
              "      box-shadow: 0px 1px 2px rgba(60, 64, 67, 0.3), 0px 1px 3px 1px rgba(60, 64, 67, 0.15);\n",
              "      fill: #174EA6;\n",
              "    }\n",
              "\n",
              "    .colab-df-buttons div {\n",
              "      margin-bottom: 4px;\n",
              "    }\n",
              "\n",
              "    [theme=dark] .colab-df-convert {\n",
              "      background-color: #3B4455;\n",
              "      fill: #D2E3FC;\n",
              "    }\n",
              "\n",
              "    [theme=dark] .colab-df-convert:hover {\n",
              "      background-color: #434B5C;\n",
              "      box-shadow: 0px 1px 3px 1px rgba(0, 0, 0, 0.15);\n",
              "      filter: drop-shadow(0px 1px 2px rgba(0, 0, 0, 0.3));\n",
              "      fill: #FFFFFF;\n",
              "    }\n",
              "  </style>\n",
              "\n",
              "    <script>\n",
              "      const buttonEl =\n",
              "        document.querySelector('#df-19f88a69-bd20-4024-b759-88c00c15fe4c button.colab-df-convert');\n",
              "      buttonEl.style.display =\n",
              "        google.colab.kernel.accessAllowed ? 'block' : 'none';\n",
              "\n",
              "      async function convertToInteractive(key) {\n",
              "        const element = document.querySelector('#df-19f88a69-bd20-4024-b759-88c00c15fe4c');\n",
              "        const dataTable =\n",
              "          await google.colab.kernel.invokeFunction('convertToInteractive',\n",
              "                                                    [key], {});\n",
              "        if (!dataTable) return;\n",
              "\n",
              "        const docLinkHtml = 'Like what you see? Visit the ' +\n",
              "          '<a target=\"_blank\" href=https://colab.research.google.com/notebooks/data_table.ipynb>data table notebook</a>'\n",
              "          + ' to learn more about interactive tables.';\n",
              "        element.innerHTML = '';\n",
              "        dataTable['output_type'] = 'display_data';\n",
              "        await google.colab.output.renderOutput(dataTable, element);\n",
              "        const docLink = document.createElement('div');\n",
              "        docLink.innerHTML = docLinkHtml;\n",
              "        element.appendChild(docLink);\n",
              "      }\n",
              "    </script>\n",
              "  </div>\n",
              "\n",
              "\n",
              "<div id=\"df-6d0a408d-77d2-4b7d-9bc2-42599e5db5ff\">\n",
              "  <button class=\"colab-df-quickchart\" onclick=\"quickchart('df-6d0a408d-77d2-4b7d-9bc2-42599e5db5ff')\"\n",
              "            title=\"Suggest charts\"\n",
              "            style=\"display:none;\">\n",
              "\n",
              "<svg xmlns=\"http://www.w3.org/2000/svg\" height=\"24px\"viewBox=\"0 0 24 24\"\n",
              "     width=\"24px\">\n",
              "    <g>\n",
              "        <path d=\"M19 3H5c-1.1 0-2 .9-2 2v14c0 1.1.9 2 2 2h14c1.1 0 2-.9 2-2V5c0-1.1-.9-2-2-2zM9 17H7v-7h2v7zm4 0h-2V7h2v10zm4 0h-2v-4h2v4z\"/>\n",
              "    </g>\n",
              "</svg>\n",
              "  </button>\n",
              "\n",
              "<style>\n",
              "  .colab-df-quickchart {\n",
              "      --bg-color: #E8F0FE;\n",
              "      --fill-color: #1967D2;\n",
              "      --hover-bg-color: #E2EBFA;\n",
              "      --hover-fill-color: #174EA6;\n",
              "      --disabled-fill-color: #AAA;\n",
              "      --disabled-bg-color: #DDD;\n",
              "  }\n",
              "\n",
              "  [theme=dark] .colab-df-quickchart {\n",
              "      --bg-color: #3B4455;\n",
              "      --fill-color: #D2E3FC;\n",
              "      --hover-bg-color: #434B5C;\n",
              "      --hover-fill-color: #FFFFFF;\n",
              "      --disabled-bg-color: #3B4455;\n",
              "      --disabled-fill-color: #666;\n",
              "  }\n",
              "\n",
              "  .colab-df-quickchart {\n",
              "    background-color: var(--bg-color);\n",
              "    border: none;\n",
              "    border-radius: 50%;\n",
              "    cursor: pointer;\n",
              "    display: none;\n",
              "    fill: var(--fill-color);\n",
              "    height: 32px;\n",
              "    padding: 0;\n",
              "    width: 32px;\n",
              "  }\n",
              "\n",
              "  .colab-df-quickchart:hover {\n",
              "    background-color: var(--hover-bg-color);\n",
              "    box-shadow: 0 1px 2px rgba(60, 64, 67, 0.3), 0 1px 3px 1px rgba(60, 64, 67, 0.15);\n",
              "    fill: var(--button-hover-fill-color);\n",
              "  }\n",
              "\n",
              "  .colab-df-quickchart-complete:disabled,\n",
              "  .colab-df-quickchart-complete:disabled:hover {\n",
              "    background-color: var(--disabled-bg-color);\n",
              "    fill: var(--disabled-fill-color);\n",
              "    box-shadow: none;\n",
              "  }\n",
              "\n",
              "  .colab-df-spinner {\n",
              "    border: 2px solid var(--fill-color);\n",
              "    border-color: transparent;\n",
              "    border-bottom-color: var(--fill-color);\n",
              "    animation:\n",
              "      spin 1s steps(1) infinite;\n",
              "  }\n",
              "\n",
              "  @keyframes spin {\n",
              "    0% {\n",
              "      border-color: transparent;\n",
              "      border-bottom-color: var(--fill-color);\n",
              "      border-left-color: var(--fill-color);\n",
              "    }\n",
              "    20% {\n",
              "      border-color: transparent;\n",
              "      border-left-color: var(--fill-color);\n",
              "      border-top-color: var(--fill-color);\n",
              "    }\n",
              "    30% {\n",
              "      border-color: transparent;\n",
              "      border-left-color: var(--fill-color);\n",
              "      border-top-color: var(--fill-color);\n",
              "      border-right-color: var(--fill-color);\n",
              "    }\n",
              "    40% {\n",
              "      border-color: transparent;\n",
              "      border-right-color: var(--fill-color);\n",
              "      border-top-color: var(--fill-color);\n",
              "    }\n",
              "    60% {\n",
              "      border-color: transparent;\n",
              "      border-right-color: var(--fill-color);\n",
              "    }\n",
              "    80% {\n",
              "      border-color: transparent;\n",
              "      border-right-color: var(--fill-color);\n",
              "      border-bottom-color: var(--fill-color);\n",
              "    }\n",
              "    90% {\n",
              "      border-color: transparent;\n",
              "      border-bottom-color: var(--fill-color);\n",
              "    }\n",
              "  }\n",
              "</style>\n",
              "\n",
              "  <script>\n",
              "    async function quickchart(key) {\n",
              "      const quickchartButtonEl =\n",
              "        document.querySelector('#' + key + ' button');\n",
              "      quickchartButtonEl.disabled = true;  // To prevent multiple clicks.\n",
              "      quickchartButtonEl.classList.add('colab-df-spinner');\n",
              "      try {\n",
              "        const charts = await google.colab.kernel.invokeFunction(\n",
              "            'suggestCharts', [key], {});\n",
              "      } catch (error) {\n",
              "        console.error('Error during call to suggestCharts:', error);\n",
              "      }\n",
              "      quickchartButtonEl.classList.remove('colab-df-spinner');\n",
              "      quickchartButtonEl.classList.add('colab-df-quickchart-complete');\n",
              "    }\n",
              "    (() => {\n",
              "      let quickchartButtonEl =\n",
              "        document.querySelector('#df-6d0a408d-77d2-4b7d-9bc2-42599e5db5ff button');\n",
              "      quickchartButtonEl.style.display =\n",
              "        google.colab.kernel.accessAllowed ? 'block' : 'none';\n",
              "    })();\n",
              "  </script>\n",
              "</div>\n",
              "\n",
              "    </div>\n",
              "  </div>\n"
            ],
            "text/plain": [
              "   HomePlanet_Europa  HomePlanet_Mars  Destination_PSO J318.5-22  \\\n",
              "0               True            False                      False   \n",
              "1              False            False                      False   \n",
              "2               True            False                      False   \n",
              "\n",
              "   Destination_TRAPPIST-1e  Deck_B  Deck_C  Deck_D  Deck_E  Deck_F  Deck_G  \\\n",
              "0                     True    True   False   False   False   False   False   \n",
              "1                     True   False   False   False   False    True   False   \n",
              "2                     True   False   False   False   False   False   False   \n",
              "\n",
              "   Deck_T  \n",
              "0   False  \n",
              "1   False  \n",
              "2   False  "
            ]
          },
          "execution_count": 53,
          "metadata": {},
          "output_type": "execute_result"
        }
      ],
      "source": [
        "# Covert categorical variables to dummy variables\n",
        "\n",
        "df_train2 = df_train.copy()\n",
        "Cat_dummy = pd.get_dummies(df_train2[['HomePlanet', 'Destination', 'Deck']], drop_first=True)\n",
        "\n",
        "Cat_dummy.head(3)"
      ]
    },
    {
      "cell_type": "code",
      "execution_count": null,
      "id": "Lg4S86Mcz_jp",
      "metadata": {
        "colab": {
          "background_save": true
        },
        "id": "Lg4S86Mcz_jp",
        "outputId": "6c7cc31d-b427-42ff-ae93-0aac9bca56c4"
      },
      "outputs": [
        {
          "name": "stdout",
          "output_type": "stream",
          "text": [
            "  PassengerId  CryoSleep  Cabin   Age    VIP  RoomService  FoodCourt  \\\n",
            "0     0001_01      False  B/0/P  39.0  False          0.0        0.0   \n",
            "1     0002_01      False  F/0/S  24.0  False        109.0        9.0   \n",
            "2     0003_01      False  A/0/S  58.0   True         43.0     3576.0   \n",
            "\n",
            "   ShoppingMall     Spa  VRDeck  ... HomePlanet_Mars  \\\n",
            "0           0.0     0.0     0.0  ...           False   \n",
            "1          25.0   549.0    44.0  ...           False   \n",
            "2           0.0  6715.0    49.0  ...           False   \n",
            "\n",
            "   Destination_PSO J318.5-22 Destination_TRAPPIST-1e  Deck_B  Deck_C  Deck_D  \\\n",
            "0                      False                    True    True   False   False   \n",
            "1                      False                    True   False   False   False   \n",
            "2                      False                    True   False   False   False   \n",
            "\n",
            "   Deck_E  Deck_F  Deck_G  Deck_T  \n",
            "0   False   False   False   False  \n",
            "1   False    True   False   False  \n",
            "2   False   False   False   False  \n",
            "\n",
            "[3 rows x 24 columns]\n"
          ]
        }
      ],
      "source": [
        "# Concatenate the original DataFrame with the DataFrame containing dummy variables\n",
        "df_train2 = pd.concat([df_train2, Cat_dummy], axis=1)\n",
        "\n",
        "# Drop the original categorical columns\n",
        "df_train2.drop(columns=['HomePlanet', 'Destination', 'Deck'], inplace=True)\n",
        "\n",
        "# Display the updated DataFrame\n",
        "print(df_train2.head(3))"
      ]
    },
    {
      "cell_type": "code",
      "execution_count": null,
      "id": "8IspflJi7LoS",
      "metadata": {
        "colab": {
          "background_save": true
        },
        "id": "8IspflJi7LoS"
      },
      "outputs": [],
      "source": [
        "#Import the required libraries for the analysis\n",
        "from sklearn.linear_model import LogisticRegression\n",
        "from sklearn.model_selection import train_test_split\n",
        "from sklearn.metrics import accuracy_score\n",
        "from sklearn.preprocessing import StandardScaler\n",
        "from sklearn import preprocessing"
      ]
    },
    {
      "cell_type": "code",
      "execution_count": null,
      "id": "CV4_1Y4-BNPa",
      "metadata": {
        "colab": {
          "background_save": true
        },
        "id": "CV4_1Y4-BNPa"
      },
      "outputs": [],
      "source": [
        "# Extracting the independent and dependent variables\n",
        "X = df_train2[['Age','RoomService', 'FoodCourt', 'ShoppingMall', 'Spa', 'VRDeck', 'HomePlanet_Europa', 'HomePlanet_Mars', 'CryoSleep', 'VIP', 'Destination_PSO J318.5-22', 'Destination_TRAPPIST-1e', 'Deck_B', 'Deck_C', 'Deck_D', 'Deck_E', 'Deck_F','Deck_G', 'Deck_T']]\n",
        "y = df_train2['Transported']\n",
        "\n",
        "\n",
        "\n"
      ]
    },
    {
      "cell_type": "code",
      "execution_count": null,
      "id": "WgzNJBpGsoyf",
      "metadata": {
        "colab": {
          "background_save": true
        },
        "id": "WgzNJBpGsoyf"
      },
      "outputs": [],
      "source": [
        "# Standardizing the continous variables\n",
        "\n",
        "numerical_features = ['Age', 'RoomService', 'FoodCourt', 'ShoppingMall', 'Spa', 'VRDeck']\n",
        "scaler = StandardScaler().fit(df_train2[numerical_features])\n",
        "scaled_features = scaler.transform(df_train2[numerical_features])"
      ]
    },
    {
      "cell_type": "code",
      "execution_count": null,
      "id": "Dr9uSjInmI4P",
      "metadata": {
        "colab": {
          "background_save": true
        },
        "id": "Dr9uSjInmI4P"
      },
      "outputs": [],
      "source": [
        "# Splitting the train dataset 80:20\n",
        "\n",
        "X_train, X_test, y_train, y_test = train_test_split(X,y, test_size = 0.2, random_state = 42)"
      ]
    },
    {
      "cell_type": "code",
      "execution_count": null,
      "id": "6rBEhjXdp-TZ",
      "metadata": {
        "colab": {
          "background_save": true
        },
        "id": "6rBEhjXdp-TZ",
        "outputId": "c37dc611-7ad2-4da5-9b21-a5dddeb3f993"
      },
      "outputs": [
        {
          "name": "stdout",
          "output_type": "stream",
          "text": [
            "Accuracy: 0.7866589994249569\n"
          ]
        }
      ],
      "source": [
        "# Logistic Regression Model\n",
        "\n",
        "model = LogisticRegression(penalty = None, max_iter=1000)\n",
        "\n",
        "model.fit(X_train,y_train)\n",
        "\n",
        "y_pred = model.predict(X_test)\n",
        "\n",
        "accuracy = accuracy_score(y_test, y_pred)\n",
        "print(\"Accuracy:\", accuracy)"
      ]
    },
    {
      "cell_type": "markdown",
      "id": "FsaRyOj2GLT5",
      "metadata": {
        "id": "FsaRyOj2GLT5"
      },
      "source": [
        "This model prediction is approximately 79% accurate"
      ]
    },
    {
      "cell_type": "markdown",
      "id": "AueTiIQcFovS",
      "metadata": {
        "id": "AueTiIQcFovS"
      },
      "source": [
        "### Decision Tree Model"
      ]
    },
    {
      "cell_type": "code",
      "execution_count": null,
      "id": "IzEoOh9H_LtY",
      "metadata": {
        "colab": {
          "background_save": true
        },
        "id": "IzEoOh9H_LtY"
      },
      "outputs": [],
      "source": [
        "from sklearn import tree\n",
        "from sklearn.tree import DecisionTreeClassifier"
      ]
    },
    {
      "cell_type": "code",
      "execution_count": null,
      "id": "KHsw-yHLY5E9",
      "metadata": {
        "colab": {
          "background_save": true
        },
        "id": "KHsw-yHLY5E9",
        "outputId": "743d58ae-7354-4ff4-ba35-1ff8fba9b143"
      },
      "outputs": [
        {
          "name": "stdout",
          "output_type": "stream",
          "text": [
            "Accuracy: 0.7354801610120759\n"
          ]
        }
      ],
      "source": [
        "# DecisionTree Model\n",
        "model1 = DecisionTreeClassifier(random_state = 0)\n",
        "model1 = model1.fit(X_train, y_train)\n",
        "y_pred = model1.predict(X_test)\n",
        "accuracy = accuracy_score(y_test, y_pred)\n",
        "print(\"Accuracy:\", accuracy)"
      ]
    },
    {
      "cell_type": "markdown",
      "id": "U2-K-8WiahZM",
      "metadata": {
        "id": "U2-K-8WiahZM"
      },
      "source": [
        "The decision gave an accuracy score of approximately 74%"
      ]
    },
    {
      "cell_type": "markdown",
      "id": "ExKBGyyGF7GI",
      "metadata": {
        "id": "ExKBGyyGF7GI"
      },
      "source": [
        "### Random Forest"
      ]
    },
    {
      "cell_type": "code",
      "execution_count": null,
      "id": "OBcPL1hvc1wh",
      "metadata": {
        "colab": {
          "background_save": true
        },
        "id": "OBcPL1hvc1wh"
      },
      "outputs": [],
      "source": [
        "from sklearn.ensemble import RandomForestClassifier\n"
      ]
    },
    {
      "cell_type": "code",
      "execution_count": null,
      "id": "Gkue4sRVZhag",
      "metadata": {
        "colab": {
          "background_save": true
        },
        "id": "Gkue4sRVZhag"
      },
      "outputs": [],
      "source": [
        "#Collection of decision tress\n",
        "model2 = RandomForestClassifier(n_estimators=1000, max_features=None)"
      ]
    },
    {
      "cell_type": "code",
      "execution_count": null,
      "id": "yb1ZUuqg4Pzb",
      "metadata": {
        "id": "yb1ZUuqg4Pzb"
      },
      "outputs": [],
      "source": [
        "# Fitting the RandomForest model\n",
        "\n",
        "model2 = model2.fit(X_train, y_train)\n",
        "y_pred = model2.predict(X_test)\n",
        "accuracy = accuracy_score(y_test, y_pred)\n",
        "print(\"Accuracy:\", accuracy)"
      ]
    },
    {
      "cell_type": "code",
      "execution_count": null,
      "id": "_51taYNPfQ4L",
      "metadata": {
        "colab": {
          "background_save": true
        },
        "id": "_51taYNPfQ4L"
      },
      "outputs": [],
      "source": [
        "# Checking which of the independent variables are most importance in determining the chances of a passenger being transportes as a result of the collision\n",
        "importances = model2.feature_importances_"
      ]
    },
    {
      "cell_type": "code",
      "execution_count": null,
      "id": "XggF_eQghel0",
      "metadata": {
        "colab": {
          "background_save": true
        },
        "id": "XggF_eQghel0"
      },
      "outputs": [],
      "source": [
        "feature_names = list(X_train.columns.values)\n",
        "forest_importances = pd.Series(importances, index=feature_names)\n"
      ]
    },
    {
      "cell_type": "code",
      "execution_count": null,
      "id": "EgH8i3MXhoF1",
      "metadata": {
        "colab": {
          "background_save": true
        },
        "id": "EgH8i3MXhoF1",
        "outputId": "152dd22b-8719-4505-bdc4-ec36d5562a02"
      },
      "outputs": [
        {
          "data": {
            "image/png": "[encoded data removed]",
            "text/plain": [
              "<Figure size 640x480 with 1 Axes>"
            ]
          },
          "metadata": {},
          "output_type": "display_data"
        }
      ],
      "source": [
        "# Sort feature importances in ascending order\n",
        "forest_importances_sorted = pd.Series(forest_importances, index=X_train.columns.values).sort_values()\n",
        "# Plot feature importances\n",
        "fig, ax = plt.subplots()\n",
        "forest_importances_sorted.plot.bar(ax=ax)\n",
        "ax.set_title(\"Feature importances\")\n",
        "ax.set_ylabel(\"Chances of transportation due to collision\")\n",
        "fig.tight_layout()\n",
        "plt.show()"
      ]
    },
    {
      "cell_type": "markdown",
      "id": "Nq0aXS76oZnm",
      "metadata": {
        "id": "Nq0aXS76oZnm"
      },
      "source": [
        "## Predicting the Unseen dataset"
      ]
    },
    {
      "cell_type": "code",
      "execution_count": null,
      "id": "bVCdytkgikkh",
      "metadata": {
        "colab": {
          "background_save": true
        },
        "id": "bVCdytkgikkh",
        "outputId": "387171b0-a0f1-4867-c9a8-02728ac3e087"
      },
      "outputs": [
        {
          "name": "stdout",
          "output_type": "stream",
          "text": [
            "  PassengerId  CryoSleep  Cabin   Age    VIP  RoomService  FoodCourt  \\\n",
            "0     0013_01       True  G/3/S  27.0  False          0.0        0.0   \n",
            "1     0018_01      False  F/4/S  19.0  False          0.0        9.0   \n",
            "2     0019_01       True  C/0/S  31.0  False          0.0        0.0   \n",
            "3     0021_01      False  C/1/S  38.0  False          0.0     6652.0   \n",
            "4     0023_01      False  F/5/S  20.0  False         10.0        0.0   \n",
            "\n",
            "   ShoppingMall     Spa  VRDeck  ... HomePlanet_Mars  \\\n",
            "0           0.0     0.0     0.0  ...           False   \n",
            "1           0.0  2823.0     0.0  ...           False   \n",
            "2           0.0     0.0     0.0  ...           False   \n",
            "3           0.0   181.0   585.0  ...           False   \n",
            "4         635.0     0.0     0.0  ...           False   \n",
            "\n",
            "  Destination_PSO J318.5-22  Destination_TRAPPIST-1e  Deck_B  Deck_C  Deck_D  \\\n",
            "0                     False                     True   False   False   False   \n",
            "1                     False                     True   False   False   False   \n",
            "2                     False                    False   False    True   False   \n",
            "3                     False                     True   False    True   False   \n",
            "4                     False                     True   False   False   False   \n",
            "\n",
            "   Deck_E  Deck_F  Deck_G  Deck_T  \n",
            "0   False   False    True   False  \n",
            "1   False    True   False   False  \n",
            "2   False   False   False   False  \n",
            "3   False   False   False   False  \n",
            "4   False    True   False   False  \n",
            "\n",
            "[5 rows x 23 columns]\n"
          ]
        }
      ],
      "source": [
        "# Covert categorical variables to dummy variables\n",
        "\n",
        "\n",
        "Cat_dummy_pred = pd.get_dummies(df_predict[['HomePlanet', 'Destination', 'Deck']], drop_first=True)\n",
        "\n",
        "# Concatenate the original DataFrame with the DataFrame containing dummy variables\n",
        "df_predict = pd.concat([df_predict, Cat_dummy_pred], axis=1)\n",
        "\n",
        "# Drop the original categorical columns\n",
        "df_predict.drop(columns=['HomePlanet', 'Destination', 'Deck'], inplace=True)\n",
        "\n",
        "# Display the updated DataFrame\n",
        "print(df_predict.head())"
      ]
    },
    {
      "cell_type": "code",
      "execution_count": null,
      "id": "qizZIVBY6BlS",
      "metadata": {
        "colab": {
          "background_save": true
        },
        "id": "qizZIVBY6BlS"
      },
      "outputs": [],
      "source": [
        "#Predicting the outcome of the unseen data using the Logistic model of the trained data set.\n",
        "\n",
        "X_predict = df_predict[['Age','RoomService', 'FoodCourt', 'ShoppingMall', 'Spa', 'VRDeck', 'HomePlanet_Europa', 'HomePlanet_Mars', 'CryoSleep', 'VIP', 'Destination_PSO J318.5-22', 'Destination_TRAPPIST-1e', 'Deck_B', 'Deck_C', 'Deck_D', 'Deck_E', 'Deck_F','Deck_G', 'Deck_T']]\n",
        "y_transport = model.predict(X_predict)\n",
        "y_transport_list = y_transport.tolist()\n"
      ]
    },
    {
      "cell_type": "code",
      "execution_count": null,
      "id": "HLD3AsZW651F",
      "metadata": {
        "colab": {
          "background_save": true
        },
        "id": "HLD3AsZW651F"
      },
      "outputs": [],
      "source": [
        "# Converting the prediction into a list, to allow us include it in the CSV file\n",
        "df_predict['predicted_transport'] = y_transport_list\n",
        "df_predict.to_csv('predicted_transport_data.csv', index=False)"
      ]
    },
    {
      "cell_type": "code",
      "execution_count": null,
      "id": "gV_wKS1P7ZXQ",
      "metadata": {
        "colab": {
          "background_save": true
        },
        "id": "gV_wKS1P7ZXQ",
        "outputId": "1ff34d3b-50fb-4e07-96e0-f19413ea7707"
      },
      "outputs": [
        {
          "data": {
            "application/javascript": [
              "\n",
              "    async function download(id, filename, size) {\n",
              "      if (!google.colab.kernel.accessAllowed) {\n",
              "        return;\n",
              "      }\n",
              "      const div = document.createElement('div');\n",
              "      const label = document.createElement('label');\n",
              "      label.textContent = `Downloading \"${filename}\": `;\n",
              "      div.appendChild(label);\n",
              "      const progress = document.createElement('progress');\n",
              "      progress.max = size;\n",
              "      div.appendChild(progress);\n",
              "      document.body.appendChild(div);\n",
              "\n",
              "      const buffers = [];\n",
              "      let downloaded = 0;\n",
              "\n",
              "      const channel = await google.colab.kernel.comms.open(id);\n",
              "      // Send a message to notify the kernel that we're ready.\n",
              "      channel.send({})\n",
              "\n",
              "      for await (const message of channel.messages) {\n",
              "        // Send a message to notify the kernel that we're ready.\n",
              "        channel.send({})\n",
              "        if (message.buffers) {\n",
              "          for (const buffer of message.buffers) {\n",
              "            buffers.push(buffer);\n",
              "            downloaded += buffer.byteLength;\n",
              "            progress.value = downloaded;\n",
              "          }\n",
              "        }\n",
              "      }\n",
              "      const blob = new Blob(buffers, {type: 'application/binary'});\n",
              "      const a = document.createElement('a');\n",
              "      a.href = window.URL.createObjectURL(blob);\n",
              "      a.download = filename;\n",
              "      div.appendChild(a);\n",
              "      a.click();\n",
              "      div.remove();\n",
              "    }\n",
              "  "
            ],
            "text/plain": [
              "<IPython.core.display.Javascript object>"
            ]
          },
          "metadata": {},
          "output_type": "display_data"
        },
        {
          "data": {
            "application/javascript": [
              "download(\"download_3e8f3aa9-8d60-4668-8e77-cc29aa09baad\", \"predicted_transport_data.csv\", 625227)"
            ],
            "text/plain": [
              "<IPython.core.display.Javascript object>"
            ]
          },
          "metadata": {},
          "output_type": "display_data"
        }
      ],
      "source": [
        "from google.colab import files\n",
        "files.download('predicted_transport_data.csv')"
      ]
    },
    {
      "cell_type": "code",
      "execution_count": null,
      "id": "TnFZCXPW_ptE",
      "metadata": {
        "colab": {
          "background_save": true
        },
        "id": "TnFZCXPW_ptE",
        "outputId": "be68c08a-a1a1-4e8b-8f89-6c194f51df06"
      },
      "outputs": [
        {
          "name": "stdout",
          "output_type": "stream",
          "text": [
            "[ True False  True ...  True  True  True]\n"
          ]
        }
      ],
      "source": [
        "# Step 1: Check y_transport\n",
        "print(y_transport)"
      ]
    },
    {
      "cell_type": "code",
      "execution_count": null,
      "id": "0LyTq7-oCCud",
      "metadata": {
        "colab": {
          "background_save": true
        },
        "id": "0LyTq7-oCCud",
        "outputId": "3fc80f65-1e35-44f1-c52e-e48147af0956"
      },
      "outputs": [
        {
          "name": "stdout",
          "output_type": "stream",
          "text": [
            "predicted_transport\n",
            "True     2256\n",
            "False    2021\n",
            "Name: count, dtype: int64\n"
          ]
        }
      ],
      "source": [
        "# Assuming you want to count the unique values in the 'Deck' column\n",
        "unique_counts = df_predict['predicted_transport'].value_counts()\n",
        "# Print the unique counts\n",
        "print(unique_counts)"
      ]
    },
    {
      "cell_type": "markdown",
      "id": "0jGR6dFoIB8o",
      "metadata": {
        "id": "0jGR6dFoIB8o"
      },
      "source": [
        "The prediction shows that out of 4277 passengers  in the test dataset, 2256 were transported as a result of the collision."
      ]
    },
    {
      "cell_type": "code",
      "execution_count": null,
      "id": "Y9EuXCmlDNyD",
      "metadata": {
        "id": "Y9EuXCmlDNyD"
      },
      "outputs": [],
      "source": []
    },
    {
      "cell_type": "markdown",
      "id": "Kp6-gHXEH_x7",
      "metadata": {
        "id": "Kp6-gHXEH_x7"
      },
      "source": []
    }
  ],
  "metadata": {
    "colab": {
      "provenance": [],
      "include_colab_link": true
    },
    "kernelspec": {
      "display_name": "Python 3 (ipykernel)",
      "language": "python",
      "name": "python3"
    },
    "language_info": {
      "codemirror_mode": {
        "name": "ipython",
        "version": 3
      },
      "file_extension": ".py",
      "mimetype": "text/x-python",
      "name": "python",
      "nbconvert_exporter": "python",
      "pygments_lexer": "ipython3",
      "version": "3.11.5"
    }
  },
  "nbformat": 4,
  "nbformat_minor": 5
}